{
 "cells": [
  {
   "cell_type": "code",
   "execution_count": 4,
   "metadata": {},
   "outputs": [
    {
     "name": "stdout",
     "output_type": "stream",
     "text": [
      "Initial embeddings:\n",
      "tensor([[ 1.,  2.],\n",
      "        [ 3.,  4.],\n",
      "        [ 5.,  6.],\n",
      "        [ 7.,  8.],\n",
      "        [ 9., 10.]])\n",
      "\n",
      "Normalized adjacency matrix:\n",
      "tensor([[0.0000, 0.0000, 0.7071, 0.5000, 0.0000],\n",
      "        [0.0000, 0.0000, 0.0000, 0.7071, 0.0000],\n",
      "        [0.0000, 0.0000, 0.0000, 0.0000, 0.0000],\n",
      "        [0.0000, 0.0000, 0.0000, 0.0000, 0.0000],\n",
      "        [0.0000, 0.0000, 0.0000, 0.0000, 0.0000]])\n",
      "\n",
      "Result after message passing:\n",
      "tensor([[7.0355, 8.2426],\n",
      "        [4.9497, 5.6569],\n",
      "        [0.0000, 0.0000],\n",
      "        [0.0000, 0.0000],\n",
      "        [0.0000, 0.0000]])\n",
      "\n",
      "Manual computation for u1:\n",
      "u1 connects to items [2, 3] with weights [0.7071067690849304, 0.5]\n",
      "Adding: 0.7071 * tensor([5., 6.]) = tensor([3.5355, 4.2426])\n",
      "Adding: 0.5000 * tensor([7., 8.]) = tensor([3.5000, 4.0000])\n",
      "\n",
      "Manual result for u1: tensor([7.0355, 8.2426])\n",
      "Matches matrix result: True\n"
     ]
    }
   ],
   "source": [
    "import torch\n",
    "import numpy as np\n",
    "\n",
    "# Create a small example with 2 users and 3 items\n",
    "# edges: u1->i1, u1->i2, u2->i2\n",
    "\n",
    "# First create edge indices\n",
    "edge_index = torch.tensor([\n",
    "    [0, 0, 1],    # user indices (u1,u1,u2)\n",
    "    [2, 3, 3]     # item indices (i1,i2,i2)\n",
    "])\n",
    "\n",
    "# Calculate degrees for each node\n",
    "unique_nodes, degrees = torch.unique(edge_index, return_counts=True)\n",
    "degree_dict = dict(zip(unique_nodes.tolist(), degrees.tolist()))\n",
    "\n",
    "# Calculate normalized edge weights\n",
    "edge_weights = []\n",
    "for src, dst in zip(edge_index[0], edge_index[1]):\n",
    "    src_deg = degree_dict[src.item()]\n",
    "    dst_deg = degree_dict[dst.item()]\n",
    "    weight = 1 / np.sqrt(src_deg * dst_deg)\n",
    "    edge_weights.append(weight)\n",
    "\n",
    "# Make sure edge_weights is float32\n",
    "edge_weights = torch.tensor(edge_weights, dtype=torch.float32)\n",
    "\n",
    "# Create embeddings (2 users + 3 items = 5 nodes total)\n",
    "embedding_dim = 2\n",
    "embeddings = torch.tensor([\n",
    "    [1.0, 2.0],  # u1\n",
    "    [3.0, 4.0],  # u2\n",
    "    [5.0, 6.0],  # i1\n",
    "    [7.0, 8.0],  # i2\n",
    "    [9.0, 10.0]  # i3\n",
    "], dtype=torch.float32)  # Explicitly set to float32\n",
    "\n",
    "print(\"Initial embeddings:\")\n",
    "print(embeddings)\n",
    "\n",
    "# Create indices and values for sparse matrix\n",
    "n_nodes = 5\n",
    "indices = edge_index\n",
    "values = edge_weights\n",
    "\n",
    "# Create sparse matrix with float32\n",
    "sparse_adj = torch.sparse_coo_tensor(indices, values, (n_nodes, n_nodes), dtype=torch.float32)\n",
    "\n",
    "# Convert to dense for visualization\n",
    "dense_adj = sparse_adj.to_dense()\n",
    "print(\"\\nNormalized adjacency matrix:\")\n",
    "print(dense_adj)\n",
    "\n",
    "# Do matrix multiplication\n",
    "result_dense = torch.mm(dense_adj, embeddings)\n",
    "print(\"\\nResult after message passing (matrix multiplication):\")\n",
    "print(result_dense)\n",
    "\n",
    "# Let's show explicitly how u1's embedding was computed\n",
    "u1_neighbors = edge_index[1][edge_index[0] == 0]  # i1, i2\n",
    "u1_weights = edge_weights[edge_index[0] == 0]\n",
    "\n",
    "print(\"\\nManual computation for u1:\")\n",
    "print(f\"u1 connects to items {u1_neighbors.tolist()} with weights {u1_weights.tolist()}\")\n",
    "manual_result = torch.zeros(embedding_dim, dtype=torch.float32)\n",
    "for neighbor, weight in zip(u1_neighbors, u1_weights):\n",
    "    neighbor_emb = embeddings[neighbor]\n",
    "    print(f\"Adding: {weight:.4f} * {neighbor_emb} = {weight * neighbor_emb}\")\n",
    "    manual_result += weight * neighbor_emb\n",
    "\n",
    "print(\"\\nManual result for u1:\", manual_result)\n",
    "print(\"Matches matrix result:\", torch.allclose(manual_result, result_dense[0]))"
   ]
  },
  {
   "cell_type": "code",
   "execution_count": 5,
   "metadata": {},
   "outputs": [
    {
     "data": {
      "text/plain": [
       "7.0355"
      ]
     },
     "execution_count": 5,
     "metadata": {},
     "output_type": "execute_result"
    }
   ],
   "source": [
    "0.7071*5+0.5*7"
   ]
  }
 ],
 "metadata": {
  "kernelspec": {
   "display_name": ".venv",
   "language": "python",
   "name": "python3"
  },
  "language_info": {
   "codemirror_mode": {
    "name": "ipython",
    "version": 3
   },
   "file_extension": ".py",
   "mimetype": "text/x-python",
   "name": "python",
   "nbconvert_exporter": "python",
   "pygments_lexer": "ipython3",
   "version": "3.10.12"
  }
 },
 "nbformat": 4,
 "nbformat_minor": 2
}

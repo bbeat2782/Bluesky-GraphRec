{
 "cells": [
  {
   "cell_type": "code",
   "execution_count": 1,
   "id": "898a9430-40ec-4fc6-8e3a-95947121ccba",
   "metadata": {},
   "outputs": [
    {
     "name": "stdout",
     "output_type": "stream",
     "text": [
      "ILD@k: 0.7439088502150224\n"
     ]
    }
   ],
   "source": [
    "import json\n",
    "import numpy as np\n",
    "from sklearn.metrics.pairwise import cosine_similarity\n",
    "\n",
    "# Load node features\n",
    "node_feat = np.load('/home/sgan/private/DyGLib/processed_data/bluesky/ml_bluesky_node.npy')\n",
    "\n",
    "# Load recommended posts\n",
    "with open('recommended_posts.json', 'r') as file:\n",
    "    data = json.load(file)\n",
    "\n",
    "# Initialize list to store ILD@k values\n",
    "intra_list_distance = []\n",
    "k = 10  # Set k for ILD@k\n",
    "\n",
    "for d in data:\n",
    "    top_k = d[:k]  # Get top-k recommended items\n",
    "    top_k_features = node_feat[top_k]  # Extract their feature vectors\n",
    "    \n",
    "    # Compute cosine similarity between all pairs\n",
    "    similarity_matrix = cosine_similarity(top_k_features)\n",
    "    \n",
    "    # Convert similarity to distance (1 - similarity)\n",
    "    distance_matrix = 1 - similarity_matrix\n",
    "    \n",
    "    # Exclude diagonal (self-similarity) by using upper triangle only\n",
    "    num_pairs = k * (k - 1)  # Number of unique pairs\n",
    "    mean_distance = np.sum(distance_matrix) / num_pairs  # ILD@k formula\n",
    "    \n",
    "    intra_list_distance.append(mean_distance)\n",
    "\n",
    "# Compute overall ILD@k\n",
    "print(\"ILD@k:\", np.mean(intra_list_distance))\n"
   ]
  },
  {
   "cell_type": "code",
   "execution_count": null,
   "id": "b2a86d78-b7a2-40d4-b7c2-6c665fd6c6df",
   "metadata": {},
   "outputs": [],
   "source": []
  }
 ],
 "metadata": {
  "kernelspec": {
   "display_name": "bluesky",
   "language": "python",
   "name": "bluesky"
  },
  "language_info": {
   "codemirror_mode": {
    "name": "ipython",
    "version": 3
   },
   "file_extension": ".py",
   "mimetype": "text/x-python",
   "name": "python",
   "nbconvert_exporter": "python",
   "pygments_lexer": "ipython3",
   "version": "3.11.9"
  }
 },
 "nbformat": 4,
 "nbformat_minor": 5
}

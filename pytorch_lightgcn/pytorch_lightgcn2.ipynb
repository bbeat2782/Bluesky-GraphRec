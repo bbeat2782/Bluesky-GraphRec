{
 "cells": [
  {
   "cell_type": "code",
   "execution_count": 1,
   "metadata": {},
   "outputs": [],
   "source": [
    "from load_interactions import load_interactions\n",
    "from build_user_post_graph import build_user_post_graph\n",
    "from train_lightgcn import train_lightgcn\n",
    "from recommend_for_user import recommend_for_user\n",
    "from temporal_split import create_temporal_split\n",
    "from evaluate import evaluate_recommendations\n",
    "\n",
    "import pandas as pd\n",
    "import torch\n",
    "\n",
    "############################################\n",
    "# 5. Main: Putting it all together\n",
    "############################################\n",
    "# Load interactions\n",
    "likes_df, follows_df, posts_df = load_interactions()\n",
    "\n",
    "# Create temporal split\n",
    "train_data, test_data, test_interactions = create_temporal_split(likes_df)\n",
    "\n",
    "# # Build bipartite user-post graph\n",
    "# data = build_user_post_graph(likes_df)"
   ]
  },
  {
   "cell_type": "code",
   "execution_count": 2,
   "metadata": {},
   "outputs": [
    {
     "name": "stdout",
     "output_type": "stream",
     "text": [
      "Epoch 01, Loss: 0.6931\n",
      "Number of nodes: 846526\n",
      "Number of edges: 5788490\n"
     ]
    }
   ],
   "source": [
    "model = train_lightgcn(train_data, embedding_dim=128, num_layers=1, epochs=1)\n",
    "\n",
    "# Get number of nodes and edges\n",
    "print(f\"Number of nodes: {train_data.num_nodes}\")\n",
    "print(f\"Number of edges: {train_data.num_edges}\")"
   ]
  },
  {
   "cell_type": "code",
   "execution_count": 3,
   "metadata": {},
   "outputs": [
    {
     "name": "stderr",
     "output_type": "stream",
     "text": [
      "  0%|          | 0/56 [00:00<?, ?it/s]"
     ]
    },
    {
     "name": "stdout",
     "output_type": "stream",
     "text": [
      "len(data.user2id):  30470\n",
      "len(data.user2id) + len(data.post2id):  846526\n"
     ]
    },
    {
     "name": "stderr",
     "output_type": "stream",
     "text": [
      "  2%|▏         | 1/56 [00:00<00:25,  2.12it/s]"
     ]
    },
    {
     "name": "stdout",
     "output_type": "stream",
     "text": [
      "len(data.user2id):  30470\n",
      "len(data.user2id) + len(data.post2id):  846526\n"
     ]
    },
    {
     "name": "stderr",
     "output_type": "stream",
     "text": [
      "  4%|▎         | 2/56 [00:00<00:21,  2.56it/s]"
     ]
    },
    {
     "name": "stdout",
     "output_type": "stream",
     "text": [
      "len(data.user2id):  30470\n",
      "len(data.user2id) + len(data.post2id):  846526\n"
     ]
    },
    {
     "name": "stderr",
     "output_type": "stream",
     "text": [
      "  5%|▌         | 3/56 [00:01<00:19,  2.72it/s]"
     ]
    },
    {
     "name": "stdout",
     "output_type": "stream",
     "text": [
      "len(data.user2id):  30470\n",
      "len(data.user2id) + len(data.post2id):  846526\n"
     ]
    },
    {
     "name": "stderr",
     "output_type": "stream",
     "text": [
      "  7%|▋         | 4/56 [00:01<00:18,  2.84it/s]"
     ]
    },
    {
     "name": "stdout",
     "output_type": "stream",
     "text": [
      "len(data.user2id):  30470\n",
      "len(data.user2id) + len(data.post2id):  846526\n"
     ]
    },
    {
     "name": "stderr",
     "output_type": "stream",
     "text": [
      "  9%|▉         | 5/56 [00:01<00:17,  2.91it/s]"
     ]
    },
    {
     "name": "stdout",
     "output_type": "stream",
     "text": [
      "len(data.user2id):  30470\n",
      "len(data.user2id) + len(data.post2id):  846526\n"
     ]
    },
    {
     "name": "stderr",
     "output_type": "stream",
     "text": [
      " 11%|█         | 6/56 [00:02<00:17,  2.91it/s]"
     ]
    },
    {
     "name": "stdout",
     "output_type": "stream",
     "text": [
      "len(data.user2id):  30470\n",
      "len(data.user2id) + len(data.post2id):  846526\n"
     ]
    },
    {
     "name": "stderr",
     "output_type": "stream",
     "text": [
      " 12%|█▎        | 7/56 [00:02<00:16,  2.96it/s]"
     ]
    },
    {
     "name": "stdout",
     "output_type": "stream",
     "text": [
      "len(data.user2id):  30470\n",
      "len(data.user2id) + len(data.post2id):  846526\n"
     ]
    },
    {
     "name": "stderr",
     "output_type": "stream",
     "text": [
      " 14%|█▍        | 8/56 [00:02<00:16,  2.98it/s]"
     ]
    },
    {
     "name": "stdout",
     "output_type": "stream",
     "text": [
      "len(data.user2id):  30470\n",
      "len(data.user2id) + len(data.post2id):  846526\n"
     ]
    },
    {
     "name": "stderr",
     "output_type": "stream",
     "text": [
      " 16%|█▌        | 9/56 [00:03<00:15,  2.97it/s]"
     ]
    },
    {
     "name": "stdout",
     "output_type": "stream",
     "text": [
      "len(data.user2id):  30470\n",
      "len(data.user2id) + len(data.post2id):  846526\n"
     ]
    },
    {
     "name": "stderr",
     "output_type": "stream",
     "text": [
      " 18%|█▊        | 10/56 [00:03<00:15,  2.99it/s]"
     ]
    },
    {
     "name": "stdout",
     "output_type": "stream",
     "text": [
      "len(data.user2id):  30470\n",
      "len(data.user2id) + len(data.post2id):  846526\n"
     ]
    },
    {
     "name": "stderr",
     "output_type": "stream",
     "text": [
      " 20%|█▉        | 11/56 [00:03<00:14,  3.00it/s]"
     ]
    },
    {
     "name": "stdout",
     "output_type": "stream",
     "text": [
      "len(data.user2id):  30470\n",
      "len(data.user2id) + len(data.post2id):  846526\n"
     ]
    },
    {
     "name": "stderr",
     "output_type": "stream",
     "text": [
      " 21%|██▏       | 12/56 [00:04<00:14,  3.03it/s]"
     ]
    },
    {
     "name": "stdout",
     "output_type": "stream",
     "text": [
      "len(data.user2id):  30470\n",
      "len(data.user2id) + len(data.post2id):  846526\n"
     ]
    },
    {
     "name": "stderr",
     "output_type": "stream",
     "text": [
      " 23%|██▎       | 13/56 [00:04<00:14,  3.03it/s]"
     ]
    },
    {
     "name": "stdout",
     "output_type": "stream",
     "text": [
      "len(data.user2id):  30470\n",
      "len(data.user2id) + len(data.post2id):  846526\n"
     ]
    },
    {
     "name": "stderr",
     "output_type": "stream",
     "text": [
      " 25%|██▌       | 14/56 [00:04<00:14,  3.00it/s]"
     ]
    },
    {
     "name": "stdout",
     "output_type": "stream",
     "text": [
      "len(data.user2id):  30470\n",
      "len(data.user2id) + len(data.post2id):  846526\n"
     ]
    },
    {
     "name": "stderr",
     "output_type": "stream",
     "text": [
      " 27%|██▋       | 15/56 [00:05<00:13,  2.99it/s]"
     ]
    },
    {
     "name": "stdout",
     "output_type": "stream",
     "text": [
      "len(data.user2id):  30470\n",
      "len(data.user2id) + len(data.post2id):  846526\n"
     ]
    },
    {
     "name": "stderr",
     "output_type": "stream",
     "text": [
      " 29%|██▊       | 16/56 [00:05<00:13,  2.98it/s]"
     ]
    },
    {
     "name": "stdout",
     "output_type": "stream",
     "text": [
      "len(data.user2id):  30470\n",
      "len(data.user2id) + len(data.post2id):  846526\n"
     ]
    },
    {
     "name": "stderr",
     "output_type": "stream",
     "text": [
      " 30%|███       | 17/56 [00:05<00:14,  2.68it/s]"
     ]
    },
    {
     "name": "stdout",
     "output_type": "stream",
     "text": [
      "len(data.user2id):  30470\n",
      "len(data.user2id) + len(data.post2id):  846526\n"
     ]
    },
    {
     "name": "stderr",
     "output_type": "stream",
     "text": [
      " 32%|███▏      | 18/56 [00:06<00:13,  2.79it/s]"
     ]
    },
    {
     "name": "stdout",
     "output_type": "stream",
     "text": [
      "len(data.user2id):  30470\n",
      "len(data.user2id) + len(data.post2id):  846526\n"
     ]
    },
    {
     "name": "stderr",
     "output_type": "stream",
     "text": [
      " 34%|███▍      | 19/56 [00:06<00:13,  2.83it/s]"
     ]
    },
    {
     "name": "stdout",
     "output_type": "stream",
     "text": [
      "len(data.user2id):  30470\n",
      "len(data.user2id) + len(data.post2id):  846526\n"
     ]
    },
    {
     "name": "stderr",
     "output_type": "stream",
     "text": [
      " 36%|███▌      | 20/56 [00:07<00:14,  2.52it/s]"
     ]
    },
    {
     "name": "stdout",
     "output_type": "stream",
     "text": [
      "len(data.user2id):  30470\n",
      "len(data.user2id) + len(data.post2id):  846526\n"
     ]
    },
    {
     "name": "stderr",
     "output_type": "stream",
     "text": [
      " 38%|███▊      | 21/56 [00:07<00:13,  2.58it/s]"
     ]
    },
    {
     "name": "stdout",
     "output_type": "stream",
     "text": [
      "len(data.user2id):  30470\n",
      "len(data.user2id) + len(data.post2id):  846526\n"
     ]
    },
    {
     "name": "stderr",
     "output_type": "stream",
     "text": [
      " 39%|███▉      | 22/56 [00:07<00:12,  2.66it/s]"
     ]
    },
    {
     "name": "stdout",
     "output_type": "stream",
     "text": [
      "len(data.user2id):  30470\n",
      "len(data.user2id) + len(data.post2id):  846526\n"
     ]
    },
    {
     "name": "stderr",
     "output_type": "stream",
     "text": [
      " 41%|████      | 23/56 [00:08<00:11,  2.76it/s]"
     ]
    },
    {
     "name": "stdout",
     "output_type": "stream",
     "text": [
      "len(data.user2id):  30470\n",
      "len(data.user2id) + len(data.post2id):  846526\n"
     ]
    },
    {
     "name": "stderr",
     "output_type": "stream",
     "text": [
      " 43%|████▎     | 24/56 [00:08<00:13,  2.43it/s]"
     ]
    },
    {
     "name": "stdout",
     "output_type": "stream",
     "text": [
      "len(data.user2id):  30470\n",
      "len(data.user2id) + len(data.post2id):  846526\n"
     ]
    },
    {
     "name": "stderr",
     "output_type": "stream",
     "text": [
      " 45%|████▍     | 25/56 [00:09<00:12,  2.55it/s]"
     ]
    },
    {
     "name": "stdout",
     "output_type": "stream",
     "text": [
      "len(data.user2id):  30470\n",
      "len(data.user2id) + len(data.post2id):  846526\n"
     ]
    },
    {
     "name": "stderr",
     "output_type": "stream",
     "text": [
      " 46%|████▋     | 26/56 [00:09<00:11,  2.67it/s]"
     ]
    },
    {
     "name": "stdout",
     "output_type": "stream",
     "text": [
      "len(data.user2id):  30470\n",
      "len(data.user2id) + len(data.post2id):  846526\n"
     ]
    },
    {
     "name": "stderr",
     "output_type": "stream",
     "text": [
      " 48%|████▊     | 27/56 [00:09<00:10,  2.73it/s]"
     ]
    },
    {
     "name": "stdout",
     "output_type": "stream",
     "text": [
      "len(data.user2id):  30470\n",
      "len(data.user2id) + len(data.post2id):  846526\n"
     ]
    },
    {
     "name": "stderr",
     "output_type": "stream",
     "text": [
      " 50%|█████     | 28/56 [00:10<00:13,  2.05it/s]"
     ]
    },
    {
     "name": "stdout",
     "output_type": "stream",
     "text": [
      "len(data.user2id):  30470\n",
      "len(data.user2id) + len(data.post2id):  846526\n"
     ]
    },
    {
     "name": "stderr",
     "output_type": "stream",
     "text": [
      " 52%|█████▏    | 29/56 [00:11<00:13,  1.93it/s]"
     ]
    },
    {
     "name": "stdout",
     "output_type": "stream",
     "text": [
      "len(data.user2id):  30470\n",
      "len(data.user2id) + len(data.post2id):  846526\n"
     ]
    },
    {
     "name": "stderr",
     "output_type": "stream",
     "text": [
      " 54%|█████▎    | 30/56 [00:11<00:14,  1.80it/s]"
     ]
    },
    {
     "name": "stdout",
     "output_type": "stream",
     "text": [
      "len(data.user2id):  30470\n",
      "len(data.user2id) + len(data.post2id):  846526\n"
     ]
    },
    {
     "name": "stderr",
     "output_type": "stream",
     "text": [
      " 55%|█████▌    | 31/56 [00:12<00:12,  2.03it/s]"
     ]
    },
    {
     "name": "stdout",
     "output_type": "stream",
     "text": [
      "len(data.user2id):  30470\n",
      "len(data.user2id) + len(data.post2id):  846526\n"
     ]
    },
    {
     "name": "stderr",
     "output_type": "stream",
     "text": [
      " 57%|█████▋    | 32/56 [00:12<00:10,  2.26it/s]"
     ]
    },
    {
     "name": "stdout",
     "output_type": "stream",
     "text": [
      "len(data.user2id):  30470\n",
      "len(data.user2id) + len(data.post2id):  846526\n"
     ]
    },
    {
     "name": "stderr",
     "output_type": "stream",
     "text": [
      " 59%|█████▉    | 33/56 [00:12<00:09,  2.41it/s]"
     ]
    },
    {
     "name": "stdout",
     "output_type": "stream",
     "text": [
      "len(data.user2id):  30470\n",
      "len(data.user2id) + len(data.post2id):  846526\n"
     ]
    },
    {
     "name": "stderr",
     "output_type": "stream",
     "text": [
      " 61%|██████    | 34/56 [00:13<00:08,  2.58it/s]"
     ]
    },
    {
     "name": "stdout",
     "output_type": "stream",
     "text": [
      "len(data.user2id):  30470\n",
      "len(data.user2id) + len(data.post2id):  846526\n"
     ]
    },
    {
     "name": "stderr",
     "output_type": "stream",
     "text": [
      " 62%|██████▎   | 35/56 [00:13<00:07,  2.71it/s]"
     ]
    },
    {
     "name": "stdout",
     "output_type": "stream",
     "text": [
      "len(data.user2id):  30470\n",
      "len(data.user2id) + len(data.post2id):  846526\n"
     ]
    },
    {
     "name": "stderr",
     "output_type": "stream",
     "text": [
      " 64%|██████▍   | 36/56 [00:14<00:12,  1.62it/s]"
     ]
    },
    {
     "name": "stdout",
     "output_type": "stream",
     "text": [
      "len(data.user2id):  30470\n",
      "len(data.user2id) + len(data.post2id):  846526\n"
     ]
    },
    {
     "name": "stderr",
     "output_type": "stream",
     "text": [
      " 66%|██████▌   | 37/56 [00:14<00:10,  1.88it/s]"
     ]
    },
    {
     "name": "stdout",
     "output_type": "stream",
     "text": [
      "len(data.user2id):  30470\n",
      "len(data.user2id) + len(data.post2id):  846526\n"
     ]
    },
    {
     "name": "stderr",
     "output_type": "stream",
     "text": [
      " 68%|██████▊   | 38/56 [00:15<00:08,  2.13it/s]"
     ]
    },
    {
     "name": "stdout",
     "output_type": "stream",
     "text": [
      "len(data.user2id):  30470\n",
      "len(data.user2id) + len(data.post2id):  846526\n"
     ]
    },
    {
     "name": "stderr",
     "output_type": "stream",
     "text": [
      " 70%|██████▉   | 39/56 [00:15<00:07,  2.32it/s]"
     ]
    },
    {
     "name": "stdout",
     "output_type": "stream",
     "text": [
      "len(data.user2id):  30470\n",
      "len(data.user2id) + len(data.post2id):  846526\n"
     ]
    },
    {
     "name": "stderr",
     "output_type": "stream",
     "text": [
      " 71%|███████▏  | 40/56 [00:15<00:06,  2.49it/s]"
     ]
    },
    {
     "name": "stdout",
     "output_type": "stream",
     "text": [
      "len(data.user2id):  30470\n",
      "len(data.user2id) + len(data.post2id):  846526\n"
     ]
    },
    {
     "name": "stderr",
     "output_type": "stream",
     "text": [
      " 73%|███████▎  | 41/56 [00:16<00:05,  2.64it/s]"
     ]
    },
    {
     "name": "stdout",
     "output_type": "stream",
     "text": [
      "len(data.user2id):  30470\n",
      "len(data.user2id) + len(data.post2id):  846526\n"
     ]
    },
    {
     "name": "stderr",
     "output_type": "stream",
     "text": [
      " 75%|███████▌  | 42/56 [00:16<00:05,  2.74it/s]"
     ]
    },
    {
     "name": "stdout",
     "output_type": "stream",
     "text": [
      "len(data.user2id):  30470\n",
      "len(data.user2id) + len(data.post2id):  846526\n"
     ]
    },
    {
     "name": "stderr",
     "output_type": "stream",
     "text": [
      " 77%|███████▋  | 43/56 [00:16<00:04,  2.85it/s]"
     ]
    },
    {
     "name": "stdout",
     "output_type": "stream",
     "text": [
      "len(data.user2id):  30470\n",
      "len(data.user2id) + len(data.post2id):  846526\n"
     ]
    },
    {
     "name": "stderr",
     "output_type": "stream",
     "text": [
      " 79%|███████▊  | 44/56 [00:17<00:04,  2.92it/s]"
     ]
    },
    {
     "name": "stdout",
     "output_type": "stream",
     "text": [
      "len(data.user2id):  30470\n",
      "len(data.user2id) + len(data.post2id):  846526\n"
     ]
    },
    {
     "name": "stderr",
     "output_type": "stream",
     "text": [
      " 80%|████████  | 45/56 [00:17<00:03,  2.95it/s]"
     ]
    },
    {
     "name": "stdout",
     "output_type": "stream",
     "text": [
      "len(data.user2id):  30470\n",
      "len(data.user2id) + len(data.post2id):  846526\n"
     ]
    },
    {
     "name": "stderr",
     "output_type": "stream",
     "text": [
      " 82%|████████▏ | 46/56 [00:17<00:03,  2.96it/s]"
     ]
    },
    {
     "name": "stdout",
     "output_type": "stream",
     "text": [
      "len(data.user2id):  30470\n",
      "len(data.user2id) + len(data.post2id):  846526\n"
     ]
    },
    {
     "name": "stderr",
     "output_type": "stream",
     "text": [
      " 84%|████████▍ | 47/56 [00:18<00:03,  2.61it/s]"
     ]
    },
    {
     "name": "stdout",
     "output_type": "stream",
     "text": [
      "len(data.user2id):  30470\n",
      "len(data.user2id) + len(data.post2id):  846526\n"
     ]
    },
    {
     "name": "stderr",
     "output_type": "stream",
     "text": [
      " 86%|████████▌ | 48/56 [00:18<00:03,  2.48it/s]"
     ]
    },
    {
     "name": "stdout",
     "output_type": "stream",
     "text": [
      "len(data.user2id):  30470\n",
      "len(data.user2id) + len(data.post2id):  846526\n"
     ]
    },
    {
     "name": "stderr",
     "output_type": "stream",
     "text": [
      " 88%|████████▊ | 49/56 [00:19<00:02,  2.56it/s]"
     ]
    },
    {
     "name": "stdout",
     "output_type": "stream",
     "text": [
      "len(data.user2id):  30470\n",
      "len(data.user2id) + len(data.post2id):  846526\n"
     ]
    },
    {
     "name": "stderr",
     "output_type": "stream",
     "text": [
      " 89%|████████▉ | 50/56 [00:19<00:02,  2.70it/s]"
     ]
    },
    {
     "name": "stdout",
     "output_type": "stream",
     "text": [
      "len(data.user2id):  30470\n",
      "len(data.user2id) + len(data.post2id):  846526\n"
     ]
    },
    {
     "name": "stderr",
     "output_type": "stream",
     "text": [
      " 91%|█████████ | 51/56 [00:19<00:01,  2.80it/s]"
     ]
    },
    {
     "name": "stdout",
     "output_type": "stream",
     "text": [
      "len(data.user2id):  30470\n",
      "len(data.user2id) + len(data.post2id):  846526\n"
     ]
    },
    {
     "name": "stderr",
     "output_type": "stream",
     "text": [
      " 93%|█████████▎| 52/56 [00:20<00:01,  2.88it/s]"
     ]
    },
    {
     "name": "stdout",
     "output_type": "stream",
     "text": [
      "len(data.user2id):  30470\n",
      "len(data.user2id) + len(data.post2id):  846526\n"
     ]
    },
    {
     "name": "stderr",
     "output_type": "stream",
     "text": [
      " 95%|█████████▍| 53/56 [00:20<00:01,  2.90it/s]"
     ]
    },
    {
     "name": "stdout",
     "output_type": "stream",
     "text": [
      "len(data.user2id):  30470\n",
      "len(data.user2id) + len(data.post2id):  846526\n"
     ]
    },
    {
     "name": "stderr",
     "output_type": "stream",
     "text": [
      " 96%|█████████▋| 54/56 [00:21<00:01,  1.68it/s]"
     ]
    },
    {
     "name": "stdout",
     "output_type": "stream",
     "text": [
      "len(data.user2id):  30470\n",
      "len(data.user2id) + len(data.post2id):  846526\n"
     ]
    },
    {
     "name": "stderr",
     "output_type": "stream",
     "text": [
      "100%|██████████| 56/56 [00:22<00:00,  2.52it/s]"
     ]
    },
    {
     "name": "stdout",
     "output_type": "stream",
     "text": [
      "len(data.user2id):  30470\n",
      "len(data.user2id) + len(data.post2id):  846526\n",
      "Recall@20: 0.0000\n",
      "Recall@100: 0.0003\n",
      "Recall@1000: 0.0014\n",
      "Recall@10000: 0.0138\n"
     ]
    },
    {
     "name": "stderr",
     "output_type": "stream",
     "text": [
      "\n"
     ]
    }
   ],
   "source": [
    "# Evaluate the model\n",
    "recall_scores = evaluate_recommendations(model, test_interactions, test_data, k_values=[20, 100, 1000, 10000])\n",
    "\n",
    "# Print results\n",
    "for k, score in recall_scores.items():\n",
    "    print(f\"Recall@{k}: {score:.4f}\")"
   ]
  },
  {
   "cell_type": "code",
   "execution_count": 4,
   "metadata": {},
   "outputs": [
    {
     "name": "stdout",
     "output_type": "stream",
     "text": [
      "Recommendations for user did:plc:ofpq5yikm7nagloc2wpmciwa\n",
      "User profile: https://bsky.app/profile/did:plc:ofpq5yikm7nagloc2wpmciwa\n",
      "\n",
      "1. By @Unknown\n",
      "   https://bsky.app/profile/did:plc:niyiyqx5m3ldzvvoy7ycrgwu/post/3l7htvogedn26\n",
      "   Posted: Unknown\n",
      "   Text: Post not found...\n",
      "\n",
      "2. By @Unknown\n",
      "   https://bsky.app/profile/did:plc:4nac3jh23t43u2b2bngpenpu/post/3l75ow3jg7r2y\n",
      "   Posted: Unknown\n",
      "   Text: Post not found...\n",
      "\n",
      "3. By @did:plc:4q7ggmxnfiepacnnf2i4g44t\n",
      "   https://bsky.app/profile/did:plc:4q7ggmxnfiepacnnf2i4g44t/post/3jucqhwcmec2a\n",
      "   Posted: 2023-04-26 23:29:16.671000\n",
      "   Text: おはスカ〜\n",
      "🍞☕...\n",
      "\n",
      "4. By @did:plc:mbnmpfg67l7hmxccxn7go2ss\n",
      "   https://bsky.app/profile/did:plc:mbnmpfg67l7hmxccxn7go2ss/post/3jui3x4ucwf26\n",
      "   Posted: 2023-04-29 02:37:56.268000\n",
      "   Text: 私もメンション来てない...\n",
      "\n",
      "5. By @did:plc:r2mvigf2j6pzmsl7httjmqty\n",
      "   https://bsky.app/profile/did:plc:r2mvigf2j6pzmsl7httjmqty/post/3jtjpc3nsj42i\n",
      "   Posted: 2023-04-17 00:31:33.613000\n",
      "   Text: Uau...\n",
      "\n",
      "6. By @did:plc:5jt2dlgxmpfgffh66pzkbsv3\n",
      "   https://bsky.app/profile/did:plc:5jt2dlgxmpfgffh66pzkbsv3/post/3jtxznoodzw2l\n",
      "   Posted: 2023-04-22 17:14:16.823000\n",
      "   Text: 今のところ無益な情報しか発していない。...\n",
      "\n",
      "7. By @did:plc:sf3tk2ovrgo5wk57jeg5io2k\n",
      "   https://bsky.app/profile/did:plc:sf3tk2ovrgo5wk57jeg5io2k/post/3jsw6lhqqh22c\n",
      "   Posted: 2023-04-09 06:11:59.466000\n",
      "   Text: Good morning good people of Blusky!...\n",
      "\n",
      "8. By @did:plc:3sa4qjux2g54xjn4mi35uiiu\n",
      "   https://bsky.app/profile/did:plc:3sa4qjux2g54xjn4mi35uiiu/post/3jtjxryzmo52k\n",
      "   Posted: 2023-04-17 03:03:37.281000\n",
      "   Text: Avisa, Marcus!...\n",
      "\n",
      "9. By @did:plc:tbduc2sgp3p3quhzmw4b2npn\n",
      "   https://bsky.app/profile/did:plc:tbduc2sgp3p3quhzmw4b2npn/post/3jtvvkv3rkk2g\n",
      "   Posted: 2023-04-21 20:55:47.900000\n",
      "   Text: want to build a protocol that allows multiple(s) of people to post imagery anonymously. \n",
      "\n",
      "like one big thrift store.\n",
      "\n",
      "donate your jpgs!...\n",
      "\n",
      "10. By @Unknown\n",
      "   https://bsky.app/profile/did:plc:6fktaamhhxdqb2ypum33kbkj/post/3juhymsgusc2j\n",
      "   Posted: Unknown\n",
      "   Text: Post not found...\n",
      "\n",
      "11. By @did:plc:dwloyjrfabctekdpmdk363qr\n",
      "   https://bsky.app/profile/did:plc:dwloyjrfabctekdpmdk363qr/post/3jqfbfioy5k2r\n",
      "   Posted: 2023-03-08 01:56:41.512000\n",
      "   Text: BEM VINDO @blankspace.bsky.social MAIS UM SWIFTIE PRA AGREGAR NESSA REDE 🥹...\n",
      "\n",
      "12. By @did:plc:re2nfuj2foimig3q5eewkhf4\n",
      "   https://bsky.app/profile/did:plc:re2nfuj2foimig3q5eewkhf4/post/3jtdiz5n4wj2a\n",
      "   Posted: 2023-04-14 13:23:12.240000\n",
      "   Text: Obrigada!...\n",
      "\n",
      "13. By @did:plc:w55yjlfs2rqpy4uqcxmrmoer\n",
      "   https://bsky.app/profile/did:plc:w55yjlfs2rqpy4uqcxmrmoer/post/3jtb56d3aq42w\n",
      "   Posted: 2023-04-13 14:46:01.630000\n",
      "   Text: Feliz Jueves...\n",
      "\n",
      "14. By @did:plc:qh3cwq4xzoxxw3otrhpz7dek\n",
      "   https://bsky.app/profile/did:plc:qh3cwq4xzoxxw3otrhpz7dek/post/3jszmyhz5q222\n",
      "   Posted: 2023-04-10 15:07:47.247000\n",
      "   Text: ...\n",
      "\n",
      "15. By @did:plc:gfjcpxwxr42vzioegciifu6q\n",
      "   https://bsky.app/profile/did:plc:gfjcpxwxr42vzioegciifu6q/post/3jspmkg7bvk2o\n",
      "   Posted: 2023-04-06 15:33:18.395000\n",
      "   Text: نخستین رشته‌بلسک تاریخ :)))...\n",
      "\n",
      "16. By @Unknown\n",
      "   https://bsky.app/profile/did:plc:aujkwexvmmcaf77yfxcuitql/post/3jtwoureztf2e\n",
      "   Posted: Unknown\n",
      "   Text: Post not found...\n",
      "\n",
      "17. By @Unknown\n",
      "   https://bsky.app/profile/did:plc:22fuh2woo6bqnrxmqixcuost/post/3ju4xqoxc7a2a\n",
      "   Posted: Unknown\n",
      "   Text: Post not found...\n",
      "\n",
      "18. By @did:plc:r2mvigf2j6pzmsl7httjmqty\n",
      "   https://bsky.app/profile/did:plc:r2mvigf2j6pzmsl7httjmqty/post/3jst5ili6wk2i\n",
      "   Posted: 2023-04-08 01:14:29.907000\n",
      "   Text: To imaginando a bagunça que o instagram vai ficar quando liberarem a compra de selos.\n",
      "\n",
      "edit: pelo menos vai dá pra saber que a pessoa não é fake...\n",
      "\n",
      "19. By @did:plc:cddm3j3km7kxbdjdrndaywvx\n",
      "   https://bsky.app/profile/did:plc:cddm3j3km7kxbdjdrndaywvx/post/3juc7h5ip3s2o\n",
      "   Posted: 2023-04-26 18:24:36.302000\n",
      "   Text: Omg OMG OMG!\n",
      "\n",
      "https://youtu.be/j61xXdTp_H0...\n",
      "\n",
      "20. By @Unknown\n",
      "   https://bsky.app/profile/did:plc:cel2ii2jnpx42vopnyxcz3lq/post/3ju4hits5ns2t\n",
      "   Posted: Unknown\n",
      "   Text: Post not found...\n"
     ]
    }
   ],
   "source": [
    "user_idx_example = 17\n",
    "user_did, user_profile_url, recommendations, rec_content = recommend_for_user(model, user_idx_example, train_data, top_k=20)\n",
    "\n",
    "print(f\"Recommendations for user {user_did}\")\n",
    "print(f\"User profile: {user_profile_url}\")\n",
    "for i, (at_uri, web_url) in enumerate(recommendations, 1):\n",
    "    content = rec_content.get(at_uri, {'text': 'Post not found', 'author': 'Unknown', 'created_at': 'Unknown'})\n",
    "    print(f\"\\n{i}. By @{content['author']}\")\n",
    "    print(f\"   {web_url}\")\n",
    "    print(f\"   Posted: {content['created_at']}\")\n",
    "    print(f\"   Text: {content['text'][:200]}...\")  # Truncate long posts"
   ]
  }
 ],
 "metadata": {
  "kernelspec": {
   "display_name": ".venv",
   "language": "python",
   "name": "python3"
  },
  "language_info": {
   "codemirror_mode": {
    "name": "ipython",
    "version": 3
   },
   "file_extension": ".py",
   "mimetype": "text/x-python",
   "name": "python",
   "nbconvert_exporter": "python",
   "pygments_lexer": "ipython3",
   "version": "3.10.12"
  }
 },
 "nbformat": 4,
 "nbformat_minor": 2
}

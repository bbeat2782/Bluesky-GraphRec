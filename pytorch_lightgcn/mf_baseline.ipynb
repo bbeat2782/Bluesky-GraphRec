{
 "cells": [
  {
   "cell_type": "markdown",
   "metadata": {},
   "source": [
    "# Not Working Yet"
   ]
  },
  {
   "cell_type": "code",
   "execution_count": 1,
   "metadata": {},
   "outputs": [],
   "source": [
    "# !uv pip install cmfrec implicit"
   ]
  },
  {
   "cell_type": "code",
   "execution_count": 7,
   "metadata": {},
   "outputs": [
    {
     "name": "stdout",
     "output_type": "stream",
     "text": [
      "Loaded 3618997 likes, 2426775 follows, and 3618975 unique posts before May 2023\n",
      "Number of unique users: 30470, number of unique posts: 816056\n",
      "Number of unique users: 7062, number of unique posts: 15891\n",
      "Train interactions: 2895197\n",
      "Test interactions: 38186\n",
      "Split timestamp: 2023-04-29 03:11:50.981000\n",
      "Users with test interactions: 7062\n"
     ]
    },
    {
     "ename": "TypeError",
     "evalue": "CMF.__init__() got an unexpected keyword argument 'factors'",
     "output_type": "error",
     "traceback": [
      "\u001b[0;31m---------------------------------------------------------------------------\u001b[0m",
      "\u001b[0;31mTypeError\u001b[0m                                 Traceback (most recent call last)",
      "Cell \u001b[0;32mIn[7], line 30\u001b[0m\n\u001b[1;32m     26\u001b[0m train_matrix \u001b[38;5;241m=\u001b[39m csr_matrix((data, (rows, cols)), \n\u001b[1;32m     27\u001b[0m                          shape\u001b[38;5;241m=\u001b[39m(\u001b[38;5;28mlen\u001b[39m(user2id), \u001b[38;5;28mlen\u001b[39m(post2id)))\n\u001b[1;32m     29\u001b[0m \u001b[38;5;66;03m# Train MF model\u001b[39;00m\n\u001b[0;32m---> 30\u001b[0m model \u001b[38;5;241m=\u001b[39m \u001b[43mcmfrec\u001b[49m\u001b[38;5;241;43m.\u001b[39;49m\u001b[43mCMF\u001b[49m\u001b[43m(\u001b[49m\n\u001b[1;32m     31\u001b[0m \u001b[43m    \u001b[49m\u001b[43mmethod\u001b[49m\u001b[38;5;241;43m=\u001b[39;49m\u001b[38;5;124;43m'\u001b[39;49m\u001b[38;5;124;43mals\u001b[39;49m\u001b[38;5;124;43m'\u001b[39;49m\u001b[43m,\u001b[49m\u001b[43m  \u001b[49m\u001b[38;5;66;43;03m# Alternating Least Squares\u001b[39;49;00m\n\u001b[1;32m     32\u001b[0m \u001b[43m    \u001b[49m\u001b[43mfactors\u001b[49m\u001b[38;5;241;43m=\u001b[39;49m\u001b[38;5;241;43m64\u001b[39;49m\u001b[43m,\u001b[49m\u001b[43m    \u001b[49m\u001b[38;5;66;43;03m# Same embedding dimension as LightGCN\u001b[39;49;00m\n\u001b[1;32m     33\u001b[0m \u001b[43m    \u001b[49m\u001b[43mlambda_\u001b[49m\u001b[38;5;241;43m=\u001b[39;49m\u001b[38;5;241;43m1.0\u001b[39;49m\u001b[43m,\u001b[49m\u001b[43m   \u001b[49m\u001b[38;5;66;43;03m# Regularization parameter\u001b[39;49;00m\n\u001b[1;32m     34\u001b[0m \u001b[43m    \u001b[49m\u001b[43malpha\u001b[49m\u001b[38;5;241;43m=\u001b[39;49m\u001b[38;5;241;43m15.0\u001b[39;49m\u001b[43m,\u001b[49m\u001b[43m    \u001b[49m\u001b[38;5;66;43;03m# Confidence scaling factor for implicit feedback\u001b[39;49;00m\n\u001b[1;32m     35\u001b[0m \u001b[43m    \u001b[49m\u001b[43mniter\u001b[49m\u001b[38;5;241;43m=\u001b[39;49m\u001b[38;5;241;43m15\u001b[39;49m\u001b[43m       \u001b[49m\u001b[38;5;66;43;03m# Number of iterations\u001b[39;49;00m\n\u001b[1;32m     36\u001b[0m \u001b[43m)\u001b[49m\n\u001b[1;32m     38\u001b[0m \u001b[38;5;66;03m# Fit the model\u001b[39;00m\n\u001b[1;32m     39\u001b[0m model\u001b[38;5;241m.\u001b[39mfit(X\u001b[38;5;241m=\u001b[39mtrain_matrix)\n",
      "\u001b[0;31mTypeError\u001b[0m: CMF.__init__() got an unexpected keyword argument 'factors'"
     ]
    }
   ],
   "source": [
    "import cmfrec\n",
    "import numpy as np\n",
    "from scipy.sparse import csr_matrix\n",
    "from load_interactions import load_interactions\n",
    "from temporal_split import create_temporal_split\n",
    "from evaluate import evaluate_recommendations\n",
    "\n",
    "# Load and split data\n",
    "likes_df, follows_df, posts_df = load_interactions()\n",
    "train_data, test_data, test_interactions = create_temporal_split(likes_df)\n",
    "\n",
    "# Convert training data to sparse matrix format\n",
    "# Use the same user/post mappings as in train_data\n",
    "user2id = train_data.user2id\n",
    "post2id = train_data.post2id\n",
    "\n",
    "# Create sparse matrix from training data\n",
    "rows = []\n",
    "cols = []\n",
    "for _, row in likes_df.iterrows():\n",
    "    if row['user_uri'] in user2id and row['post_uri'] in post2id:\n",
    "        rows.append(user2id[row['user_uri']])\n",
    "        cols.append(post2id[row['post_uri']] - len(user2id))  # Adjust post IDs to start from 0\n",
    "\n",
    "data = np.ones(len(rows))  # Use 1s for implicit feedback\n",
    "train_matrix = csr_matrix((data, (rows, cols)), \n",
    "                         shape=(len(user2id), len(post2id)))\n",
    "\n",
    "# Train MF model\n",
    "model = cmfrec.CMF(\n",
    "    method='als',  # Alternating Least Squares\n",
    "    factors=64,    # Same embedding dimension as LightGCN\n",
    "    lambda_=1.0,   # Regularization parameter\n",
    "    alpha=15.0,    # Confidence scaling factor for implicit feedback\n",
    "    niter=15       # Number of iterations\n",
    ")\n",
    "\n",
    "# Fit the model\n",
    "model.fit(X=train_matrix)\n",
    "\n",
    "# Function to evaluate MF model using same metrics\n",
    "def evaluate_mf_model(model, test_interactions, k_values=[20, 100, 1000]):\n",
    "    recalls = {k: [] for k in k_values}\n",
    "    \n",
    "    for user_idx, true_post_ids in test_interactions.items():\n",
    "        # Get recommendations for user\n",
    "        # Note: model.topN returns (scores, indices)\n",
    "        recs = model.topN(user=user_idx, n=max(k_values))[1]\n",
    "        true_set = set(p - len(user2id) for p in true_post_ids)  # Adjust post IDs\n",
    "        \n",
    "        # Calculate recall@k for each k\n",
    "        for k in k_values:\n",
    "            rec_set = set(recs[:k])\n",
    "            recall = len(rec_set.intersection(true_set)) / len(true_set) if true_set else 0\n",
    "            recalls[k].append(recall)\n",
    "    \n",
    "    # Calculate average recall for each K\n",
    "    avg_recalls = {k: sum(scores)/len(scores) for k, scores in recalls.items()}\n",
    "    return avg_recalls\n",
    "\n",
    "# Evaluate MF model\n",
    "mf_results = evaluate_mf_model(model, test_interactions)\n",
    "print(\"\\nMatrix Factorization Results:\")\n",
    "for k, recall in mf_results.items():\n",
    "    print(f\"Recall@{k}: {recall:.4f}\")"
   ]
  }
 ],
 "metadata": {
  "kernelspec": {
   "display_name": ".venv",
   "language": "python",
   "name": "python3"
  },
  "language_info": {
   "codemirror_mode": {
    "name": "ipython",
    "version": 3
   },
   "file_extension": ".py",
   "mimetype": "text/x-python",
   "name": "python",
   "nbconvert_exporter": "python",
   "pygments_lexer": "ipython3",
   "version": "3.10.12"
  }
 },
 "nbformat": 4,
 "nbformat_minor": 2
}

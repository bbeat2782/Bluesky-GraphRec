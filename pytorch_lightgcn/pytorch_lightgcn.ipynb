{
 "cells": [
  {
   "cell_type": "code",
   "execution_count": 1,
   "metadata": {},
   "outputs": [
    {
     "data": {
      "application/vnd.jupyter.widget-view+json": {
       "model_id": "865d4906345e4e48ad64200747a00f44",
       "version_major": 2,
       "version_minor": 0
      },
      "text/plain": [
       "FloatProgress(value=0.0, layout=Layout(width='auto'), style=ProgressStyle(bar_color='black'))"
      ]
     },
     "metadata": {},
     "output_type": "display_data"
    },
    {
     "name": "stdout",
     "output_type": "stream",
     "text": [
      "Loaded 22131398 likes before Jun 14, 2023\n",
      "Number of unique users: 83884, number of unique posts: 4778546\n",
      "Number of unique users: 14041, number of unique posts: 36763\n",
      "Train interactions: 17705118\n",
      "Test interactions: 89474\n",
      "Split timestamp: 2023-06-21 21:20:10.262000\n",
      "Users with test interactions: 14041\n"
     ]
    }
   ],
   "source": [
    "from load_interactions import load_interactions\n",
    "from build_user_post_graph import build_user_post_graph\n",
    "from train_lightgcn import train_lightgcn\n",
    "from recommend_for_user import recommend_for_user\n",
    "from temporal_split import create_temporal_split\n",
    "from evaluate import evaluate_recommendations\n",
    "\n",
    "import pandas as pd\n",
    "import torch\n",
    "\n",
    "device = torch.device('cuda' if torch.cuda.is_available() else 'cpu')\n",
    "\n",
    "############################################\n",
    "# 5. Main: Putting it all together\n",
    "############################################\n",
    "# Load interactions\n",
    "# likes_df, follows_df, posts_df = load_interactions()\n",
    "#likes_df, follows_df, _ = load_interactions()\n",
    "likes_df = load_interactions()\n",
    "\n",
    "# Create temporal split\n",
    "# change split_ratio to change the split timestamp\n",
    "train_data, test_data, test_interactions = create_temporal_split(likes_df, split_ratio=0.8)\n",
    "\n",
    "# # Build bipartite user-post graph\n",
    "# data = build_user_post_graph(likes_df)"
   ]
  },
  {
   "cell_type": "code",
   "execution_count": null,
   "metadata": {},
   "outputs": [],
   "source": []
  },
  {
   "cell_type": "code",
   "execution_count": 1,
   "metadata": {},
   "outputs": [
    {
     "data": {
      "application/vnd.jupyter.widget-view+json": {
       "model_id": "b4997edb5f8545e087ea0551fa33fafc",
       "version_major": 2,
       "version_minor": 0
      },
      "text/plain": [
       "FloatProgress(value=0.0, layout=Layout(width='auto'), style=ProgressStyle(bar_color='black'))"
      ]
     },
     "metadata": {},
     "output_type": "display_data"
    }
   ],
   "source": [
    "import duckdb\n",
    "\n",
    "con = duckdb.connect('/home/sgan/scan_results.duckdb')\n",
    "\n",
    "# Get likes with URI format\n",
    "lookback_df = con.execute(\"\"\"\n",
    "    SELECT \n",
    "        'at://' || repo || '/app.bsky.feed.like/' || rkey as interaction_uri,\n",
    "        json_extract_string(record, '$.subject.uri') as post_uri,\n",
    "        TRIM(\n",
    "            LEADING '/' FROM \n",
    "            TRIM(\n",
    "                TRAILING '\"' FROM \n",
    "                CONCAT(\n",
    "                    REPLACE(SUBSTR(json_extract(record, '$.subject.uri')::STRING, 6), '/app.bsky.feed.post/', '_')\n",
    "                )\n",
    "            ) \n",
    "        ) AS formatted_postUri,\n",
    "        repo as user_uri,\n",
    "        createdAt as timestamp\n",
    "    FROM records \n",
    "    WHERE collection = 'app.bsky.feed.like'\n",
    "        AND createdAt >= '2023-06-23 19:47:26'\n",
    "        AND createdAt < '2023-06-23 21:47:26'\n",
    "\"\"\").fetchdf()\n",
    "\n",
    "# Get likes with URI format\n",
    "test_df = con.execute(\"\"\"\n",
    "    SELECT \n",
    "        'at://' || repo || '/app.bsky.feed.like/' || rkey as interaction_uri,\n",
    "        json_extract_string(record, '$.subject.uri') as post_uri,\n",
    "        TRIM(\n",
    "            LEADING '/' FROM \n",
    "            TRIM(\n",
    "                TRAILING '\"' FROM \n",
    "                CONCAT(\n",
    "                    REPLACE(SUBSTR(json_extract(record, '$.subject.uri')::STRING, 6), '/app.bsky.feed.post/', '_')\n",
    "                )\n",
    "            ) \n",
    "        ) AS formatted_postUri,\n",
    "        repo as user_uri,\n",
    "        createdAt as timestamp\n",
    "    FROM records \n",
    "    WHERE collection = 'app.bsky.feed.like'\n",
    "        AND createdAt >= '2023-06-23 21:47:26'\n",
    "        AND createdAt < '2023-06-23 23:47:26'\n",
    "\"\"\").fetchdf()"
   ]
  },
  {
   "cell_type": "code",
   "execution_count": 2,
   "metadata": {},
   "outputs": [
    {
     "data": {
      "text/plain": [
       "0.795379054318093"
      ]
     },
     "execution_count": 2,
     "metadata": {},
     "output_type": "execute_result"
    }
   ],
   "source": [
    "lookback_df_post = set(lookback_df['formatted_postUri'])\n",
    "test_df_post = set(test_df['formatted_postUri'])\n",
    "len(test_df_post - lookback_df_post) / len(test_df_post)"
   ]
  },
  {
   "cell_type": "code",
   "execution_count": 4,
   "metadata": {},
   "outputs": [
    {
     "data": {
      "text/plain": [
       "22190"
      ]
     },
     "execution_count": 4,
     "metadata": {},
     "output_type": "execute_result"
    }
   ],
   "source": [
    "len(lookback_df_post)"
   ]
  },
  {
   "cell_type": "code",
   "execution_count": 1,
   "metadata": {},
   "outputs": [
    {
     "data": {
      "application/vnd.jupyter.widget-view+json": {
       "model_id": "b33967b3c77b4ff4a1f59e402f14b485",
       "version_major": 2,
       "version_minor": 0
      },
      "text/plain": [
       "FloatProgress(value=0.0, layout=Layout(width='auto'), style=ProgressStyle(bar_color='black'))"
      ]
     },
     "metadata": {},
     "output_type": "display_data"
    },
    {
     "name": "stdout",
     "output_type": "stream",
     "text": [
      "Loaded 22131398 likes before Jun 14, 2023\n"
     ]
    },
    {
     "name": "stderr",
     "output_type": "stream",
     "text": [
      "/home/sgan/private/DyGLib/pytorch_lightgcn/build_user_post_graph.py:86: FutureWarning: Setting an item of incompatible dtype is deprecated and will raise in a future error of pandas. Value '[2.02304252e+13 2.02304302e+13 2.02305011e+13 ... 2.02306222e+13\n",
      " 2.02306222e+13 2.02304272e+13]' has dtype incompatible with datetime64[us], please explicitly cast to a compatible dtype first.\n",
      "  likes_df.loc[:,'timestamp'] = likes_df['timestamp'].apply(convert_timestamp_to_float)\n"
     ]
    },
    {
     "name": "stdout",
     "output_type": "stream",
     "text": [
      "Number of unique users: 106367, number of unique posts: 5866226\n",
      "44260392\n"
     ]
    }
   ],
   "source": [
    "from load_interactions import load_interactions\n",
    "from build_user_post_graph import build_user_post_graph, build_user_post_graph_v2\n",
    "from train_lightgcn import train_lightgcn\n",
    "from recommend_for_user import recommend_for_user\n",
    "from temporal_split import create_temporal_split, create_split_with_time\n",
    "from evaluate import evaluate_recommendations\n",
    "\n",
    "import pandas as pd\n",
    "import torch\n",
    "\n",
    "device = torch.device('cuda' if torch.cuda.is_available() else 'cpu')\n",
    "\n",
    "############################################\n",
    "# 5. Main: Putting it all together\n",
    "############################################\n",
    "# Load interactions\n",
    "# likes_df, follows_df, posts_df = load_interactions()\n",
    "likes_df = load_interactions()\n",
    "\n",
    "# train_df, val_df, test_df = create_split_with_time(likes_df)\n",
    "\n",
    "# def build_combined_graph(train_df, val_df, test_df=None):\n",
    "#     # Combine edges from train, val, and test dataframes\n",
    "#     combined_df = pd.concat([train_df, val_df, test_df]).drop_duplicates()\n",
    "#     return build_user_post_graph_v2(combined_df)\n",
    "\n",
    "combined_data = build_user_post_graph_v2(likes_df)"
   ]
  },
  {
   "cell_type": "code",
   "execution_count": 2,
   "metadata": {},
   "outputs": [
    {
     "data": {
      "text/plain": [
       "106367"
      ]
     },
     "execution_count": 2,
     "metadata": {},
     "output_type": "execute_result"
    }
   ],
   "source": [
    "combined_data.num_users"
   ]
  },
  {
   "cell_type": "code",
   "execution_count": 3,
   "metadata": {},
   "outputs": [
    {
     "name": "stdout",
     "output_type": "stream",
     "text": [
      "Max index in edge_index: 5972592\n",
      "Number of nodes (data.num_nodes): 5972593\n",
      "Min index in edge_index: 0\n"
     ]
    }
   ],
   "source": [
    "print(f\"Max index in edge_index: {combined_data.edge_index.max()}\")\n",
    "print(f\"Number of nodes (data.num_nodes): {combined_data.num_nodes}\")\n",
    "print(f\"Min index in edge_index: {combined_data.edge_index.min()}\")"
   ]
  },
  {
   "cell_type": "code",
   "execution_count": 4,
   "metadata": {},
   "outputs": [],
   "source": [
    "train_edge_index = combined_data.edge_index[:, combined_data.train_mask]\n",
    "val_edge_index = combined_data.edge_index[:, combined_data.val_mask]\n",
    "test_edge_index = combined_data.edge_index[:, combined_data.test_mask]"
   ]
  },
  {
   "cell_type": "code",
   "execution_count": 5,
   "metadata": {},
   "outputs": [],
   "source": [
    "from torch_geometric.data import Data\n",
    "train_data = Data(\n",
    "    edge_index=train_edge_index,\n",
    "    num_nodes=combined_data.num_nodes\n",
    ")\n",
    "train_data.num_users = combined_data.num_train_users\n",
    "train_data.num_items = combined_data.num_train_posts"
   ]
  },
  {
   "cell_type": "code",
   "execution_count": 6,
   "metadata": {},
   "outputs": [
    {
     "name": "stderr",
     "output_type": "stream",
     "text": [
      "Epoch 01: 100%|██████████| 946/946 [02:55<00:00,  5.40it/s, batch_loss=0.0648]"
     ]
    },
    {
     "name": "stdout",
     "output_type": "stream",
     "text": [
      "\n",
      "Epoch 01 Summary:\n",
      "  Average Loss: 0.0976\n",
      "  Min Batch Loss: 0.0580\n",
      "  Max Batch Loss: 0.6931\n",
      "  Loss Std Dev: 0.0882\n",
      "\n"
     ]
    },
    {
     "name": "stderr",
     "output_type": "stream",
     "text": [
      "\n"
     ]
    }
   ],
   "source": [
    "from train_lightgcn import train_lightgcn_v2\n",
    "\n",
    "model = train_lightgcn_v2(train_data, embedding_dim=32, num_layers=1, epochs=1)\n",
    "\n",
    "# Get number of nodes and edges\n",
    "# print(f\"Number of nodes: {train_data.num_nodes}. Number of users: {train_data.num_users}. Number of posts: {train_data.num_items}\")\n",
    "# print(f\"Number of edges: {train_data.num_edges}. Number of likes: {len(likes_df)}\") # remember edges are doubled then coalesced (deduplicated, sorted, etc.)"
   ]
  },
  {
   "cell_type": "code",
   "execution_count": 7,
   "metadata": {},
   "outputs": [],
   "source": [
    "embeddings = model.get_embedding(combined_data.edge_index.to(device))\n",
    "\n",
    "# Split embeddings into user and post embeddings\n",
    "user_embeddings = embeddings[:combined_data.num_users]\n",
    "post_embeddings = embeddings[combined_data.num_users:]\n",
    "\n",
    "val_edge_index = combined_data.edge_index[:, combined_data.val_mask]\n",
    "test_edge_index = combined_data.edge_index[:, combined_data.test_mask]\n",
    "\n",
    "# Separate validation users and posts based on ID range\n",
    "val_user_ids = torch.unique(val_edge_index[val_edge_index < combined_data.num_users])  # IDs < num_users\n",
    "val_post_ids = torch.unique(val_edge_index[val_edge_index >= combined_data.num_users])  # IDs >= num_users\n",
    "\n",
    "# Separate test users and posts based on ID range\n",
    "test_user_ids = torch.unique(test_edge_index[test_edge_index < combined_data.num_users])  # IDs < num_users\n",
    "test_post_ids = torch.unique(test_edge_index[test_edge_index >= combined_data.num_users])  # IDs >= num_users"
   ]
  },
  {
   "cell_type": "code",
   "execution_count": 23,
   "metadata": {},
   "outputs": [
    {
     "data": {
      "text/plain": [
       "torch.Size([5972593, 32])"
      ]
     },
     "execution_count": 23,
     "metadata": {},
     "output_type": "execute_result"
    }
   ],
   "source": [
    "embeddings.shape"
   ]
  },
  {
   "cell_type": "code",
   "execution_count": 31,
   "metadata": {},
   "outputs": [
    {
     "data": {
      "text/plain": [
       "tensor([[      1,       1,       1,  ..., 5972588, 5972589, 5972590],\n",
       "        [ 107131,  107132,  107133,  ...,  106364,  106364,  106364]])"
      ]
     },
     "execution_count": 31,
     "metadata": {},
     "output_type": "execute_result"
    }
   ],
   "source": [
    "combined_data.num_users + combined_data.num_items\n",
    "\n",
    "val_edge_index"
   ]
  },
  {
   "cell_type": "code",
   "execution_count": 16,
   "metadata": {},
   "outputs": [
    {
     "name": "stderr",
     "output_type": "stream",
     "text": [
      "../aten/src/ATen/native/cuda/IndexKernel.cu:93: operator(): block: [3073,0,0], thread: [0,0,0] Assertion `-sizes[i] <= index && index < sizes[i] && \"index out of bounds\"` failed.\n",
      "../aten/src/ATen/native/cuda/IndexKernel.cu:93: operator(): block: [3073,0,0], thread: [1,0,0] Assertion `-sizes[i] <= index && index < sizes[i] && \"index out of bounds\"` failed.\n",
      "../aten/src/ATen/native/cuda/IndexKernel.cu:93: operator(): block: [3073,0,0], thread: [2,0,0] Assertion `-sizes[i] <= index && index < sizes[i] && \"index out of bounds\"` failed.\n",
      "../aten/src/ATen/native/cuda/IndexKernel.cu:93: operator(): block: [3073,0,0], thread: [3,0,0] Assertion `-sizes[i] <= index && index < sizes[i] && \"index out of bounds\"` failed.\n",
      "../aten/src/ATen/native/cuda/IndexKernel.cu:93: operator(): block: [3073,0,0], thread: [4,0,0] Assertion `-sizes[i] <= index && index < sizes[i] && \"index out of bounds\"` failed.\n",
      "../aten/src/ATen/native/cuda/IndexKernel.cu:93: operator(): block: [3073,0,0], thread: [5,0,0] Assertion `-sizes[i] <= index && index < sizes[i] && \"index out of bounds\"` failed.\n",
      "../aten/src/ATen/native/cuda/IndexKernel.cu:93: operator(): block: [3073,0,0], thread: [6,0,0] Assertion `-sizes[i] <= index && index < sizes[i] && \"index out of bounds\"` failed.\n",
      "../aten/src/ATen/native/cuda/IndexKernel.cu:93: operator(): block: [3073,0,0], thread: [7,0,0] Assertion `-sizes[i] <= index && index < sizes[i] && \"index out of bounds\"` failed.\n",
      "../aten/src/ATen/native/cuda/IndexKernel.cu:93: operator(): block: [3073,0,0], thread: [8,0,0] Assertion `-sizes[i] <= index && index < sizes[i] && \"index out of bounds\"` failed.\n",
      "../aten/src/ATen/native/cuda/IndexKernel.cu:93: operator(): block: [3073,0,0], thread: [9,0,0] Assertion `-sizes[i] <= index && index < sizes[i] && \"index out of bounds\"` failed.\n",
      "../aten/src/ATen/native/cuda/IndexKernel.cu:93: operator(): block: [3073,0,0], thread: [10,0,0] Assertion `-sizes[i] <= index && index < sizes[i] && \"index out of bounds\"` failed.\n",
      "../aten/src/ATen/native/cuda/IndexKernel.cu:93: operator(): block: [3073,0,0], thread: [11,0,0] Assertion `-sizes[i] <= index && index < sizes[i] && \"index out of bounds\"` failed.\n",
      "../aten/src/ATen/native/cuda/IndexKernel.cu:93: operator(): block: [3073,0,0], thread: [12,0,0] Assertion `-sizes[i] <= index && index < sizes[i] && \"index out of bounds\"` failed.\n",
      "../aten/src/ATen/native/cuda/IndexKernel.cu:93: operator(): block: [3073,0,0], thread: [13,0,0] Assertion `-sizes[i] <= index && index < sizes[i] && \"index out of bounds\"` failed.\n",
      "../aten/src/ATen/native/cuda/IndexKernel.cu:93: operator(): block: [3073,0,0], thread: [14,0,0] Assertion `-sizes[i] <= index && index < sizes[i] && \"index out of bounds\"` failed.\n",
      "../aten/src/ATen/native/cuda/IndexKernel.cu:93: operator(): block: [3073,0,0], thread: [15,0,0] Assertion `-sizes[i] <= index && index < sizes[i] && \"index out of bounds\"` failed.\n",
      "../aten/src/ATen/native/cuda/IndexKernel.cu:93: operator(): block: [3073,0,0], thread: [16,0,0] Assertion `-sizes[i] <= index && index < sizes[i] && \"index out of bounds\"` failed.\n",
      "../aten/src/ATen/native/cuda/IndexKernel.cu:93: operator(): block: [3073,0,0], thread: [17,0,0] Assertion `-sizes[i] <= index && index < sizes[i] && \"index out of bounds\"` failed.\n",
      "../aten/src/ATen/native/cuda/IndexKernel.cu:93: operator(): block: [3073,0,0], thread: [18,0,0] Assertion `-sizes[i] <= index && index < sizes[i] && \"index out of bounds\"` failed.\n",
      "../aten/src/ATen/native/cuda/IndexKernel.cu:93: operator(): block: [3073,0,0], thread: [19,0,0] Assertion `-sizes[i] <= index && index < sizes[i] && \"index out of bounds\"` failed.\n",
      "../aten/src/ATen/native/cuda/IndexKernel.cu:93: operator(): block: [3073,0,0], thread: [20,0,0] Assertion `-sizes[i] <= index && index < sizes[i] && \"index out of bounds\"` failed.\n",
      "../aten/src/ATen/native/cuda/IndexKernel.cu:93: operator(): block: [3073,0,0], thread: [21,0,0] Assertion `-sizes[i] <= index && index < sizes[i] && \"index out of bounds\"` failed.\n",
      "../aten/src/ATen/native/cuda/IndexKernel.cu:93: operator(): block: [3073,0,0], thread: [22,0,0] Assertion `-sizes[i] <= index && index < sizes[i] && \"index out of bounds\"` failed.\n",
      "../aten/src/ATen/native/cuda/IndexKernel.cu:93: operator(): block: [3073,0,0], thread: [23,0,0] Assertion `-sizes[i] <= index && index < sizes[i] && \"index out of bounds\"` failed.\n",
      "../aten/src/ATen/native/cuda/IndexKernel.cu:93: operator(): block: [3073,0,0], thread: [24,0,0] Assertion `-sizes[i] <= index && index < sizes[i] && \"index out of bounds\"` failed.\n",
      "../aten/src/ATen/native/cuda/IndexKernel.cu:93: operator(): block: [3073,0,0], thread: [25,0,0] Assertion `-sizes[i] <= index && index < sizes[i] && \"index out of bounds\"` failed.\n",
      "../aten/src/ATen/native/cuda/IndexKernel.cu:93: operator(): block: [3073,0,0], thread: [26,0,0] Assertion `-sizes[i] <= index && index < sizes[i] && \"index out of bounds\"` failed.\n",
      "../aten/src/ATen/native/cuda/IndexKernel.cu:93: operator(): block: [3073,0,0], thread: [27,0,0] Assertion `-sizes[i] <= index && index < sizes[i] && \"index out of bounds\"` failed.\n",
      "../aten/src/ATen/native/cuda/IndexKernel.cu:93: operator(): block: [3073,0,0], thread: [28,0,0] Assertion `-sizes[i] <= index && index < sizes[i] && \"index out of bounds\"` failed.\n",
      "../aten/src/ATen/native/cuda/IndexKernel.cu:93: operator(): block: [3073,0,0], thread: [29,0,0] Assertion `-sizes[i] <= index && index < sizes[i] && \"index out of bounds\"` failed.\n",
      "../aten/src/ATen/native/cuda/IndexKernel.cu:93: operator(): block: [3073,0,0], thread: [30,0,0] Assertion `-sizes[i] <= index && index < sizes[i] && \"index out of bounds\"` failed.\n",
      "../aten/src/ATen/native/cuda/IndexKernel.cu:93: operator(): block: [3073,0,0], thread: [31,0,0] Assertion `-sizes[i] <= index && index < sizes[i] && \"index out of bounds\"` failed.\n",
      "../aten/src/ATen/native/cuda/IndexKernel.cu:93: operator(): block: [3029,0,0], thread: [96,0,0] Assertion `-sizes[i] <= index && index < sizes[i] && \"index out of bounds\"` failed.\n",
      "../aten/src/ATen/native/cuda/IndexKernel.cu:93: operator(): block: [3029,0,0], thread: [97,0,0] Assertion `-sizes[i] <= index && index < sizes[i] && \"index out of bounds\"` failed.\n",
      "../aten/src/ATen/native/cuda/IndexKernel.cu:93: operator(): block: [3029,0,0], thread: [98,0,0] Assertion `-sizes[i] <= index && index < sizes[i] && \"index out of bounds\"` failed.\n",
      "../aten/src/ATen/native/cuda/IndexKernel.cu:93: operator(): block: [3029,0,0], thread: [99,0,0] Assertion `-sizes[i] <= index && index < sizes[i] && \"index out of bounds\"` failed.\n",
      "../aten/src/ATen/native/cuda/IndexKernel.cu:93: operator(): block: [3029,0,0], thread: [100,0,0] Assertion `-sizes[i] <= index && index < sizes[i] && \"index out of bounds\"` failed.\n",
      "../aten/src/ATen/native/cuda/IndexKernel.cu:93: operator(): block: [3029,0,0], thread: [101,0,0] Assertion `-sizes[i] <= index && index < sizes[i] && \"index out of bounds\"` failed.\n",
      "../aten/src/ATen/native/cuda/IndexKernel.cu:93: operator(): block: [3029,0,0], thread: [102,0,0] Assertion `-sizes[i] <= index && index < sizes[i] && \"index out of bounds\"` failed.\n",
      "../aten/src/ATen/native/cuda/IndexKernel.cu:93: operator(): block: [3029,0,0], thread: [103,0,0] Assertion `-sizes[i] <= index && index < sizes[i] && \"index out of bounds\"` failed.\n",
      "../aten/src/ATen/native/cuda/IndexKernel.cu:93: operator(): block: [3029,0,0], thread: [104,0,0] Assertion `-sizes[i] <= index && index < sizes[i] && \"index out of bounds\"` failed.\n",
      "../aten/src/ATen/native/cuda/IndexKernel.cu:93: operator(): block: [3029,0,0], thread: [105,0,0] Assertion `-sizes[i] <= index && index < sizes[i] && \"index out of bounds\"` failed.\n",
      "../aten/src/ATen/native/cuda/IndexKernel.cu:93: operator(): block: [3029,0,0], thread: [106,0,0] Assertion `-sizes[i] <= index && index < sizes[i] && \"index out of bounds\"` failed.\n",
      "../aten/src/ATen/native/cuda/IndexKernel.cu:93: operator(): block: [3029,0,0], thread: [107,0,0] Assertion `-sizes[i] <= index && index < sizes[i] && \"index out of bounds\"` failed.\n",
      "../aten/src/ATen/native/cuda/IndexKernel.cu:93: operator(): block: [3029,0,0], thread: [108,0,0] Assertion `-sizes[i] <= index && index < sizes[i] && \"index out of bounds\"` failed.\n",
      "../aten/src/ATen/native/cuda/IndexKernel.cu:93: operator(): block: [3029,0,0], thread: [109,0,0] Assertion `-sizes[i] <= index && index < sizes[i] && \"index out of bounds\"` failed.\n",
      "../aten/src/ATen/native/cuda/IndexKernel.cu:93: operator(): block: [3029,0,0], thread: [110,0,0] Assertion `-sizes[i] <= index && index < sizes[i] && \"index out of bounds\"` failed.\n",
      "../aten/src/ATen/native/cuda/IndexKernel.cu:93: operator(): block: [3029,0,0], thread: [111,0,0] Assertion `-sizes[i] <= index && index < sizes[i] && \"index out of bounds\"` failed.\n",
      "../aten/src/ATen/native/cuda/IndexKernel.cu:93: operator(): block: [3029,0,0], thread: [112,0,0] Assertion `-sizes[i] <= index && index < sizes[i] && \"index out of bounds\"` failed.\n",
      "../aten/src/ATen/native/cuda/IndexKernel.cu:93: operator(): block: [3029,0,0], thread: [113,0,0] Assertion `-sizes[i] <= index && index < sizes[i] && \"index out of bounds\"` failed.\n",
      "../aten/src/ATen/native/cuda/IndexKernel.cu:93: operator(): block: [3029,0,0], thread: [114,0,0] Assertion `-sizes[i] <= index && index < sizes[i] && \"index out of bounds\"` failed.\n",
      "../aten/src/ATen/native/cuda/IndexKernel.cu:93: operator(): block: [3029,0,0], thread: [115,0,0] Assertion `-sizes[i] <= index && index < sizes[i] && \"index out of bounds\"` failed.\n",
      "../aten/src/ATen/native/cuda/IndexKernel.cu:93: operator(): block: [3029,0,0], thread: [116,0,0] Assertion `-sizes[i] <= index && index < sizes[i] && \"index out of bounds\"` failed.\n",
      "../aten/src/ATen/native/cuda/IndexKernel.cu:93: operator(): block: [3029,0,0], thread: [117,0,0] Assertion `-sizes[i] <= index && index < sizes[i] && \"index out of bounds\"` failed.\n",
      "../aten/src/ATen/native/cuda/IndexKernel.cu:93: operator(): block: [3029,0,0], thread: [118,0,0] Assertion `-sizes[i] <= index && index < sizes[i] && \"index out of bounds\"` failed.\n",
      "../aten/src/ATen/native/cuda/IndexKernel.cu:93: operator(): block: [3029,0,0], thread: [119,0,0] Assertion `-sizes[i] <= index && index < sizes[i] && \"index out of bounds\"` failed.\n",
      "../aten/src/ATen/native/cuda/IndexKernel.cu:93: operator(): block: [3029,0,0], thread: [120,0,0] Assertion `-sizes[i] <= index && index < sizes[i] && \"index out of bounds\"` failed.\n",
      "../aten/src/ATen/native/cuda/IndexKernel.cu:93: operator(): block: [3029,0,0], thread: [121,0,0] Assertion `-sizes[i] <= index && index < sizes[i] && \"index out of bounds\"` failed.\n",
      "../aten/src/ATen/native/cuda/IndexKernel.cu:93: operator(): block: [3029,0,0], thread: [122,0,0] Assertion `-sizes[i] <= index && index < sizes[i] && \"index out of bounds\"` failed.\n",
      "../aten/src/ATen/native/cuda/IndexKernel.cu:93: operator(): block: [3029,0,0], thread: [123,0,0] Assertion `-sizes[i] <= index && index < sizes[i] && \"index out of bounds\"` failed.\n",
      "../aten/src/ATen/native/cuda/IndexKernel.cu:93: operator(): block: [3029,0,0], thread: [124,0,0] Assertion `-sizes[i] <= index && index < sizes[i] && \"index out of bounds\"` failed.\n",
      "../aten/src/ATen/native/cuda/IndexKernel.cu:93: operator(): block: [3029,0,0], thread: [125,0,0] Assertion `-sizes[i] <= index && index < sizes[i] && \"index out of bounds\"` failed.\n",
      "../aten/src/ATen/native/cuda/IndexKernel.cu:93: operator(): block: [3029,0,0], thread: [126,0,0] Assertion `-sizes[i] <= index && index < sizes[i] && \"index out of bounds\"` failed.\n",
      "../aten/src/ATen/native/cuda/IndexKernel.cu:93: operator(): block: [3029,0,0], thread: [127,0,0] Assertion `-sizes[i] <= index && index < sizes[i] && \"index out of bounds\"` failed.\n",
      "../aten/src/ATen/native/cuda/IndexKernel.cu:93: operator(): block: [3069,0,0], thread: [96,0,0] Assertion `-sizes[i] <= index && index < sizes[i] && \"index out of bounds\"` failed.\n",
      "../aten/src/ATen/native/cuda/IndexKernel.cu:93: operator(): block: [3069,0,0], thread: [97,0,0] Assertion `-sizes[i] <= index && index < sizes[i] && \"index out of bounds\"` failed.\n",
      "../aten/src/ATen/native/cuda/IndexKernel.cu:93: operator(): block: [3069,0,0], thread: [98,0,0] Assertion `-sizes[i] <= index && index < sizes[i] && \"index out of bounds\"` failed.\n",
      "../aten/src/ATen/native/cuda/IndexKernel.cu:93: operator(): block: [3069,0,0], thread: [99,0,0] Assertion `-sizes[i] <= index && index < sizes[i] && \"index out of bounds\"` failed.\n",
      "../aten/src/ATen/native/cuda/IndexKernel.cu:93: operator(): block: [3069,0,0], thread: [100,0,0] Assertion `-sizes[i] <= index && index < sizes[i] && \"index out of bounds\"` failed.\n",
      "../aten/src/ATen/native/cuda/IndexKernel.cu:93: operator(): block: [3069,0,0], thread: [101,0,0] Assertion `-sizes[i] <= index && index < sizes[i] && \"index out of bounds\"` failed.\n",
      "../aten/src/ATen/native/cuda/IndexKernel.cu:93: operator(): block: [3069,0,0], thread: [102,0,0] Assertion `-sizes[i] <= index && index < sizes[i] && \"index out of bounds\"` failed.\n",
      "../aten/src/ATen/native/cuda/IndexKernel.cu:93: operator(): block: [3069,0,0], thread: [103,0,0] Assertion `-sizes[i] <= index && index < sizes[i] && \"index out of bounds\"` failed.\n",
      "../aten/src/ATen/native/cuda/IndexKernel.cu:93: operator(): block: [3069,0,0], thread: [104,0,0] Assertion `-sizes[i] <= index && index < sizes[i] && \"index out of bounds\"` failed.\n",
      "../aten/src/ATen/native/cuda/IndexKernel.cu:93: operator(): block: [3069,0,0], thread: [105,0,0] Assertion `-sizes[i] <= index && index < sizes[i] && \"index out of bounds\"` failed.\n",
      "../aten/src/ATen/native/cuda/IndexKernel.cu:93: operator(): block: [3069,0,0], thread: [106,0,0] Assertion `-sizes[i] <= index && index < sizes[i] && \"index out of bounds\"` failed.\n",
      "../aten/src/ATen/native/cuda/IndexKernel.cu:93: operator(): block: [3069,0,0], thread: [107,0,0] Assertion `-sizes[i] <= index && index < sizes[i] && \"index out of bounds\"` failed.\n",
      "../aten/src/ATen/native/cuda/IndexKernel.cu:93: operator(): block: [3069,0,0], thread: [108,0,0] Assertion `-sizes[i] <= index && index < sizes[i] && \"index out of bounds\"` failed.\n",
      "../aten/src/ATen/native/cuda/IndexKernel.cu:93: operator(): block: [3069,0,0], thread: [109,0,0] Assertion `-sizes[i] <= index && index < sizes[i] && \"index out of bounds\"` failed.\n",
      "../aten/src/ATen/native/cuda/IndexKernel.cu:93: operator(): block: [3069,0,0], thread: [110,0,0] Assertion `-sizes[i] <= index && index < sizes[i] && \"index out of bounds\"` failed.\n",
      "../aten/src/ATen/native/cuda/IndexKernel.cu:93: operator(): block: [3069,0,0], thread: [111,0,0] Assertion `-sizes[i] <= index && index < sizes[i] && \"index out of bounds\"` failed.\n",
      "../aten/src/ATen/native/cuda/IndexKernel.cu:93: operator(): block: [3069,0,0], thread: [112,0,0] Assertion `-sizes[i] <= index && index < sizes[i] && \"index out of bounds\"` failed.\n",
      "../aten/src/ATen/native/cuda/IndexKernel.cu:93: operator(): block: [3069,0,0], thread: [113,0,0] Assertion `-sizes[i] <= index && index < sizes[i] && \"index out of bounds\"` failed.\n",
      "../aten/src/ATen/native/cuda/IndexKernel.cu:93: operator(): block: [3069,0,0], thread: [114,0,0] Assertion `-sizes[i] <= index && index < sizes[i] && \"index out of bounds\"` failed.\n",
      "../aten/src/ATen/native/cuda/IndexKernel.cu:93: operator(): block: [3069,0,0], thread: [115,0,0] Assertion `-sizes[i] <= index && index < sizes[i] && \"index out of bounds\"` failed.\n",
      "../aten/src/ATen/native/cuda/IndexKernel.cu:93: operator(): block: [3069,0,0], thread: [116,0,0] Assertion `-sizes[i] <= index && index < sizes[i] && \"index out of bounds\"` failed.\n",
      "../aten/src/ATen/native/cuda/IndexKernel.cu:93: operator(): block: [3069,0,0], thread: [117,0,0] Assertion `-sizes[i] <= index && index < sizes[i] && \"index out of bounds\"` failed.\n",
      "../aten/src/ATen/native/cuda/IndexKernel.cu:93: operator(): block: [3069,0,0], thread: [118,0,0] Assertion `-sizes[i] <= index && index < sizes[i] && \"index out of bounds\"` failed.\n",
      "../aten/src/ATen/native/cuda/IndexKernel.cu:93: operator(): block: [3069,0,0], thread: [119,0,0] Assertion `-sizes[i] <= index && index < sizes[i] && \"index out of bounds\"` failed.\n",
      "../aten/src/ATen/native/cuda/IndexKernel.cu:93: operator(): block: [3069,0,0], thread: [120,0,0] Assertion `-sizes[i] <= index && index < sizes[i] && \"index out of bounds\"` failed.\n",
      "../aten/src/ATen/native/cuda/IndexKernel.cu:93: operator(): block: [3069,0,0], thread: [121,0,0] Assertion `-sizes[i] <= index && index < sizes[i] && \"index out of bounds\"` failed.\n",
      "../aten/src/ATen/native/cuda/IndexKernel.cu:93: operator(): block: [3069,0,0], thread: [122,0,0] Assertion `-sizes[i] <= index && index < sizes[i] && \"index out of bounds\"` failed.\n",
      "../aten/src/ATen/native/cuda/IndexKernel.cu:93: operator(): block: [3069,0,0], thread: [123,0,0] Assertion `-sizes[i] <= index && index < sizes[i] && \"index out of bounds\"` failed.\n",
      "../aten/src/ATen/native/cuda/IndexKernel.cu:93: operator(): block: [3069,0,0], thread: [124,0,0] Assertion `-sizes[i] <= index && index < sizes[i] && \"index out of bounds\"` failed.\n",
      "../aten/src/ATen/native/cuda/IndexKernel.cu:93: operator(): block: [3069,0,0], thread: [125,0,0] Assertion `-sizes[i] <= index && index < sizes[i] && \"index out of bounds\"` failed.\n",
      "../aten/src/ATen/native/cuda/IndexKernel.cu:93: operator(): block: [3069,0,0], thread: [126,0,0] Assertion `-sizes[i] <= index && index < sizes[i] && \"index out of bounds\"` failed.\n",
      "../aten/src/ATen/native/cuda/IndexKernel.cu:93: operator(): block: [3069,0,0], thread: [127,0,0] Assertion `-sizes[i] <= index && index < sizes[i] && \"index out of bounds\"` failed.\n",
      "../aten/src/ATen/native/cuda/IndexKernel.cu:93: operator(): block: [3069,0,0], thread: [0,0,0] Assertion `-sizes[i] <= index && index < sizes[i] && \"index out of bounds\"` failed.\n",
      "../aten/src/ATen/native/cuda/IndexKernel.cu:93: operator(): block: [3069,0,0], thread: [1,0,0] Assertion `-sizes[i] <= index && index < sizes[i] && \"index out of bounds\"` failed.\n",
      "../aten/src/ATen/native/cuda/IndexKernel.cu:93: operator(): block: [3069,0,0], thread: [2,0,0] Assertion `-sizes[i] <= index && index < sizes[i] && \"index out of bounds\"` failed.\n",
      "../aten/src/ATen/native/cuda/IndexKernel.cu:93: operator(): block: [3069,0,0], thread: [3,0,0] Assertion `-sizes[i] <= index && index < sizes[i] && \"index out of bounds\"` failed.\n",
      "../aten/src/ATen/native/cuda/IndexKernel.cu:93: operator(): block: [3069,0,0], thread: [4,0,0] Assertion `-sizes[i] <= index && index < sizes[i] && \"index out of bounds\"` failed.\n",
      "../aten/src/ATen/native/cuda/IndexKernel.cu:93: operator(): block: [3069,0,0], thread: [5,0,0] Assertion `-sizes[i] <= index && index < sizes[i] && \"index out of bounds\"` failed.\n",
      "../aten/src/ATen/native/cuda/IndexKernel.cu:93: operator(): block: [3069,0,0], thread: [6,0,0] Assertion `-sizes[i] <= index && index < sizes[i] && \"index out of bounds\"` failed.\n",
      "../aten/src/ATen/native/cuda/IndexKernel.cu:93: operator(): block: [3069,0,0], thread: [7,0,0] Assertion `-sizes[i] <= index && index < sizes[i] && \"index out of bounds\"` failed.\n",
      "../aten/src/ATen/native/cuda/IndexKernel.cu:93: operator(): block: [3069,0,0], thread: [8,0,0] Assertion `-sizes[i] <= index && index < sizes[i] && \"index out of bounds\"` failed.\n",
      "../aten/src/ATen/native/cuda/IndexKernel.cu:93: operator(): block: [3069,0,0], thread: [9,0,0] Assertion `-sizes[i] <= index && index < sizes[i] && \"index out of bounds\"` failed.\n",
      "../aten/src/ATen/native/cuda/IndexKernel.cu:93: operator(): block: [3069,0,0], thread: [10,0,0] Assertion `-sizes[i] <= index && index < sizes[i] && \"index out of bounds\"` failed.\n",
      "../aten/src/ATen/native/cuda/IndexKernel.cu:93: operator(): block: [3069,0,0], thread: [11,0,0] Assertion `-sizes[i] <= index && index < sizes[i] && \"index out of bounds\"` failed.\n",
      "../aten/src/ATen/native/cuda/IndexKernel.cu:93: operator(): block: [3069,0,0], thread: [12,0,0] Assertion `-sizes[i] <= index && index < sizes[i] && \"index out of bounds\"` failed.\n",
      "../aten/src/ATen/native/cuda/IndexKernel.cu:93: operator(): block: [3069,0,0], thread: [13,0,0] Assertion `-sizes[i] <= index && index < sizes[i] && \"index out of bounds\"` failed.\n",
      "../aten/src/ATen/native/cuda/IndexKernel.cu:93: operator(): block: [3069,0,0], thread: [14,0,0] Assertion `-sizes[i] <= index && index < sizes[i] && \"index out of bounds\"` failed.\n",
      "../aten/src/ATen/native/cuda/IndexKernel.cu:93: operator(): block: [3069,0,0], thread: [15,0,0] Assertion `-sizes[i] <= index && index < sizes[i] && \"index out of bounds\"` failed.\n",
      "../aten/src/ATen/native/cuda/IndexKernel.cu:93: operator(): block: [3069,0,0], thread: [16,0,0] Assertion `-sizes[i] <= index && index < sizes[i] && \"index out of bounds\"` failed.\n",
      "../aten/src/ATen/native/cuda/IndexKernel.cu:93: operator(): block: [3069,0,0], thread: [17,0,0] Assertion `-sizes[i] <= index && index < sizes[i] && \"index out of bounds\"` failed.\n",
      "../aten/src/ATen/native/cuda/IndexKernel.cu:93: operator(): block: [3069,0,0], thread: [18,0,0] Assertion `-sizes[i] <= index && index < sizes[i] && \"index out of bounds\"` failed.\n",
      "../aten/src/ATen/native/cuda/IndexKernel.cu:93: operator(): block: [3069,0,0], thread: [19,0,0] Assertion `-sizes[i] <= index && index < sizes[i] && \"index out of bounds\"` failed.\n",
      "../aten/src/ATen/native/cuda/IndexKernel.cu:93: operator(): block: [3069,0,0], thread: [20,0,0] Assertion `-sizes[i] <= index && index < sizes[i] && \"index out of bounds\"` failed.\n",
      "../aten/src/ATen/native/cuda/IndexKernel.cu:93: operator(): block: [3069,0,0], thread: [21,0,0] Assertion `-sizes[i] <= index && index < sizes[i] && \"index out of bounds\"` failed.\n",
      "../aten/src/ATen/native/cuda/IndexKernel.cu:93: operator(): block: [3069,0,0], thread: [22,0,0] Assertion `-sizes[i] <= index && index < sizes[i] && \"index out of bounds\"` failed.\n",
      "../aten/src/ATen/native/cuda/IndexKernel.cu:93: operator(): block: [3069,0,0], thread: [23,0,0] Assertion `-sizes[i] <= index && index < sizes[i] && \"index out of bounds\"` failed.\n",
      "../aten/src/ATen/native/cuda/IndexKernel.cu:93: operator(): block: [3069,0,0], thread: [24,0,0] Assertion `-sizes[i] <= index && index < sizes[i] && \"index out of bounds\"` failed.\n",
      "../aten/src/ATen/native/cuda/IndexKernel.cu:93: operator(): block: [3069,0,0], thread: [25,0,0] Assertion `-sizes[i] <= index && index < sizes[i] && \"index out of bounds\"` failed.\n",
      "../aten/src/ATen/native/cuda/IndexKernel.cu:93: operator(): block: [3069,0,0], thread: [26,0,0] Assertion `-sizes[i] <= index && index < sizes[i] && \"index out of bounds\"` failed.\n",
      "../aten/src/ATen/native/cuda/IndexKernel.cu:93: operator(): block: [3069,0,0], thread: [27,0,0] Assertion `-sizes[i] <= index && index < sizes[i] && \"index out of bounds\"` failed.\n",
      "../aten/src/ATen/native/cuda/IndexKernel.cu:93: operator(): block: [3069,0,0], thread: [28,0,0] Assertion `-sizes[i] <= index && index < sizes[i] && \"index out of bounds\"` failed.\n",
      "../aten/src/ATen/native/cuda/IndexKernel.cu:93: operator(): block: [3069,0,0], thread: [29,0,0] Assertion `-sizes[i] <= index && index < sizes[i] && \"index out of bounds\"` failed.\n",
      "../aten/src/ATen/native/cuda/IndexKernel.cu:93: operator(): block: [3069,0,0], thread: [30,0,0] Assertion `-sizes[i] <= index && index < sizes[i] && \"index out of bounds\"` failed.\n",
      "../aten/src/ATen/native/cuda/IndexKernel.cu:93: operator(): block: [3069,0,0], thread: [31,0,0] Assertion `-sizes[i] <= index && index < sizes[i] && \"index out of bounds\"` failed.\n",
      "../aten/src/ATen/native/cuda/IndexKernel.cu:93: operator(): block: [3069,0,0], thread: [32,0,0] Assertion `-sizes[i] <= index && index < sizes[i] && \"index out of bounds\"` failed.\n",
      "../aten/src/ATen/native/cuda/IndexKernel.cu:93: operator(): block: [3069,0,0], thread: [33,0,0] Assertion `-sizes[i] <= index && index < sizes[i] && \"index out of bounds\"` failed.\n",
      "../aten/src/ATen/native/cuda/IndexKernel.cu:93: operator(): block: [3069,0,0], thread: [34,0,0] Assertion `-sizes[i] <= index && index < sizes[i] && \"index out of bounds\"` failed.\n",
      "../aten/src/ATen/native/cuda/IndexKernel.cu:93: operator(): block: [3069,0,0], thread: [35,0,0] Assertion `-sizes[i] <= index && index < sizes[i] && \"index out of bounds\"` failed.\n",
      "../aten/src/ATen/native/cuda/IndexKernel.cu:93: operator(): block: [3069,0,0], thread: [36,0,0] Assertion `-sizes[i] <= index && index < sizes[i] && \"index out of bounds\"` failed.\n",
      "../aten/src/ATen/native/cuda/IndexKernel.cu:93: operator(): block: [3069,0,0], thread: [37,0,0] Assertion `-sizes[i] <= index && index < sizes[i] && \"index out of bounds\"` failed.\n",
      "../aten/src/ATen/native/cuda/IndexKernel.cu:93: operator(): block: [3069,0,0], thread: [38,0,0] Assertion `-sizes[i] <= index && index < sizes[i] && \"index out of bounds\"` failed.\n",
      "../aten/src/ATen/native/cuda/IndexKernel.cu:93: operator(): block: [3069,0,0], thread: [39,0,0] Assertion `-sizes[i] <= index && index < sizes[i] && \"index out of bounds\"` failed.\n",
      "../aten/src/ATen/native/cuda/IndexKernel.cu:93: operator(): block: [3069,0,0], thread: [40,0,0] Assertion `-sizes[i] <= index && index < sizes[i] && \"index out of bounds\"` failed.\n",
      "../aten/src/ATen/native/cuda/IndexKernel.cu:93: operator(): block: [3069,0,0], thread: [41,0,0] Assertion `-sizes[i] <= index && index < sizes[i] && \"index out of bounds\"` failed.\n",
      "../aten/src/ATen/native/cuda/IndexKernel.cu:93: operator(): block: [3069,0,0], thread: [42,0,0] Assertion `-sizes[i] <= index && index < sizes[i] && \"index out of bounds\"` failed.\n",
      "../aten/src/ATen/native/cuda/IndexKernel.cu:93: operator(): block: [3069,0,0], thread: [43,0,0] Assertion `-sizes[i] <= index && index < sizes[i] && \"index out of bounds\"` failed.\n",
      "../aten/src/ATen/native/cuda/IndexKernel.cu:93: operator(): block: [3069,0,0], thread: [44,0,0] Assertion `-sizes[i] <= index && index < sizes[i] && \"index out of bounds\"` failed.\n",
      "../aten/src/ATen/native/cuda/IndexKernel.cu:93: operator(): block: [3069,0,0], thread: [45,0,0] Assertion `-sizes[i] <= index && index < sizes[i] && \"index out of bounds\"` failed.\n",
      "../aten/src/ATen/native/cuda/IndexKernel.cu:93: operator(): block: [3069,0,0], thread: [46,0,0] Assertion `-sizes[i] <= index && index < sizes[i] && \"index out of bounds\"` failed.\n",
      "../aten/src/ATen/native/cuda/IndexKernel.cu:93: operator(): block: [3069,0,0], thread: [47,0,0] Assertion `-sizes[i] <= index && index < sizes[i] && \"index out of bounds\"` failed.\n",
      "../aten/src/ATen/native/cuda/IndexKernel.cu:93: operator(): block: [3069,0,0], thread: [48,0,0] Assertion `-sizes[i] <= index && index < sizes[i] && \"index out of bounds\"` failed.\n",
      "../aten/src/ATen/native/cuda/IndexKernel.cu:93: operator(): block: [3069,0,0], thread: [49,0,0] Assertion `-sizes[i] <= index && index < sizes[i] && \"index out of bounds\"` failed.\n",
      "../aten/src/ATen/native/cuda/IndexKernel.cu:93: operator(): block: [3069,0,0], thread: [50,0,0] Assertion `-sizes[i] <= index && index < sizes[i] && \"index out of bounds\"` failed.\n",
      "../aten/src/ATen/native/cuda/IndexKernel.cu:93: operator(): block: [3069,0,0], thread: [51,0,0] Assertion `-sizes[i] <= index && index < sizes[i] && \"index out of bounds\"` failed.\n",
      "../aten/src/ATen/native/cuda/IndexKernel.cu:93: operator(): block: [3069,0,0], thread: [52,0,0] Assertion `-sizes[i] <= index && index < sizes[i] && \"index out of bounds\"` failed.\n",
      "../aten/src/ATen/native/cuda/IndexKernel.cu:93: operator(): block: [3069,0,0], thread: [53,0,0] Assertion `-sizes[i] <= index && index < sizes[i] && \"index out of bounds\"` failed.\n",
      "../aten/src/ATen/native/cuda/IndexKernel.cu:93: operator(): block: [3069,0,0], thread: [54,0,0] Assertion `-sizes[i] <= index && index < sizes[i] && \"index out of bounds\"` failed.\n",
      "../aten/src/ATen/native/cuda/IndexKernel.cu:93: operator(): block: [3069,0,0], thread: [55,0,0] Assertion `-sizes[i] <= index && index < sizes[i] && \"index out of bounds\"` failed.\n",
      "../aten/src/ATen/native/cuda/IndexKernel.cu:93: operator(): block: [3069,0,0], thread: [56,0,0] Assertion `-sizes[i] <= index && index < sizes[i] && \"index out of bounds\"` failed.\n",
      "../aten/src/ATen/native/cuda/IndexKernel.cu:93: operator(): block: [3069,0,0], thread: [57,0,0] Assertion `-sizes[i] <= index && index < sizes[i] && \"index out of bounds\"` failed.\n",
      "../aten/src/ATen/native/cuda/IndexKernel.cu:93: operator(): block: [3069,0,0], thread: [58,0,0] Assertion `-sizes[i] <= index && index < sizes[i] && \"index out of bounds\"` failed.\n",
      "../aten/src/ATen/native/cuda/IndexKernel.cu:93: operator(): block: [3069,0,0], thread: [59,0,0] Assertion `-sizes[i] <= index && index < sizes[i] && \"index out of bounds\"` failed.\n",
      "../aten/src/ATen/native/cuda/IndexKernel.cu:93: operator(): block: [3069,0,0], thread: [60,0,0] Assertion `-sizes[i] <= index && index < sizes[i] && \"index out of bounds\"` failed.\n",
      "../aten/src/ATen/native/cuda/IndexKernel.cu:93: operator(): block: [3069,0,0], thread: [61,0,0] Assertion `-sizes[i] <= index && index < sizes[i] && \"index out of bounds\"` failed.\n",
      "../aten/src/ATen/native/cuda/IndexKernel.cu:93: operator(): block: [3069,0,0], thread: [62,0,0] Assertion `-sizes[i] <= index && index < sizes[i] && \"index out of bounds\"` failed.\n",
      "../aten/src/ATen/native/cuda/IndexKernel.cu:93: operator(): block: [3069,0,0], thread: [63,0,0] Assertion `-sizes[i] <= index && index < sizes[i] && \"index out of bounds\"` failed.\n",
      "../aten/src/ATen/native/cuda/IndexKernel.cu:93: operator(): block: [3021,0,0], thread: [0,0,0] Assertion `-sizes[i] <= index && index < sizes[i] && \"index out of bounds\"` failed.\n",
      "../aten/src/ATen/native/cuda/IndexKernel.cu:93: operator(): block: [3021,0,0], thread: [1,0,0] Assertion `-sizes[i] <= index && index < sizes[i] && \"index out of bounds\"` failed.\n",
      "../aten/src/ATen/native/cuda/IndexKernel.cu:93: operator(): block: [3021,0,0], thread: [2,0,0] Assertion `-sizes[i] <= index && index < sizes[i] && \"index out of bounds\"` failed.\n",
      "../aten/src/ATen/native/cuda/IndexKernel.cu:93: operator(): block: [3021,0,0], thread: [3,0,0] Assertion `-sizes[i] <= index && index < sizes[i] && \"index out of bounds\"` failed.\n",
      "../aten/src/ATen/native/cuda/IndexKernel.cu:93: operator(): block: [3021,0,0], thread: [4,0,0] Assertion `-sizes[i] <= index && index < sizes[i] && \"index out of bounds\"` failed.\n",
      "../aten/src/ATen/native/cuda/IndexKernel.cu:93: operator(): block: [3021,0,0], thread: [5,0,0] Assertion `-sizes[i] <= index && index < sizes[i] && \"index out of bounds\"` failed.\n",
      "../aten/src/ATen/native/cuda/IndexKernel.cu:93: operator(): block: [3021,0,0], thread: [6,0,0] Assertion `-sizes[i] <= index && index < sizes[i] && \"index out of bounds\"` failed.\n",
      "../aten/src/ATen/native/cuda/IndexKernel.cu:93: operator(): block: [3021,0,0], thread: [7,0,0] Assertion `-sizes[i] <= index && index < sizes[i] && \"index out of bounds\"` failed.\n",
      "../aten/src/ATen/native/cuda/IndexKernel.cu:93: operator(): block: [3021,0,0], thread: [8,0,0] Assertion `-sizes[i] <= index && index < sizes[i] && \"index out of bounds\"` failed.\n",
      "../aten/src/ATen/native/cuda/IndexKernel.cu:93: operator(): block: [3021,0,0], thread: [9,0,0] Assertion `-sizes[i] <= index && index < sizes[i] && \"index out of bounds\"` failed.\n",
      "../aten/src/ATen/native/cuda/IndexKernel.cu:93: operator(): block: [3021,0,0], thread: [10,0,0] Assertion `-sizes[i] <= index && index < sizes[i] && \"index out of bounds\"` failed.\n",
      "../aten/src/ATen/native/cuda/IndexKernel.cu:93: operator(): block: [3021,0,0], thread: [11,0,0] Assertion `-sizes[i] <= index && index < sizes[i] && \"index out of bounds\"` failed.\n",
      "../aten/src/ATen/native/cuda/IndexKernel.cu:93: operator(): block: [3021,0,0], thread: [12,0,0] Assertion `-sizes[i] <= index && index < sizes[i] && \"index out of bounds\"` failed.\n",
      "../aten/src/ATen/native/cuda/IndexKernel.cu:93: operator(): block: [3021,0,0], thread: [13,0,0] Assertion `-sizes[i] <= index && index < sizes[i] && \"index out of bounds\"` failed.\n",
      "../aten/src/ATen/native/cuda/IndexKernel.cu:93: operator(): block: [3021,0,0], thread: [14,0,0] Assertion `-sizes[i] <= index && index < sizes[i] && \"index out of bounds\"` failed.\n",
      "../aten/src/ATen/native/cuda/IndexKernel.cu:93: operator(): block: [3021,0,0], thread: [15,0,0] Assertion `-sizes[i] <= index && index < sizes[i] && \"index out of bounds\"` failed.\n",
      "../aten/src/ATen/native/cuda/IndexKernel.cu:93: operator(): block: [3021,0,0], thread: [16,0,0] Assertion `-sizes[i] <= index && index < sizes[i] && \"index out of bounds\"` failed.\n",
      "../aten/src/ATen/native/cuda/IndexKernel.cu:93: operator(): block: [3021,0,0], thread: [17,0,0] Assertion `-sizes[i] <= index && index < sizes[i] && \"index out of bounds\"` failed.\n",
      "../aten/src/ATen/native/cuda/IndexKernel.cu:93: operator(): block: [3021,0,0], thread: [18,0,0] Assertion `-sizes[i] <= index && index < sizes[i] && \"index out of bounds\"` failed.\n",
      "../aten/src/ATen/native/cuda/IndexKernel.cu:93: operator(): block: [3021,0,0], thread: [19,0,0] Assertion `-sizes[i] <= index && index < sizes[i] && \"index out of bounds\"` failed.\n",
      "../aten/src/ATen/native/cuda/IndexKernel.cu:93: operator(): block: [3021,0,0], thread: [20,0,0] Assertion `-sizes[i] <= index && index < sizes[i] && \"index out of bounds\"` failed.\n",
      "../aten/src/ATen/native/cuda/IndexKernel.cu:93: operator(): block: [3021,0,0], thread: [21,0,0] Assertion `-sizes[i] <= index && index < sizes[i] && \"index out of bounds\"` failed.\n",
      "../aten/src/ATen/native/cuda/IndexKernel.cu:93: operator(): block: [3021,0,0], thread: [22,0,0] Assertion `-sizes[i] <= index && index < sizes[i] && \"index out of bounds\"` failed.\n",
      "../aten/src/ATen/native/cuda/IndexKernel.cu:93: operator(): block: [3021,0,0], thread: [23,0,0] Assertion `-sizes[i] <= index && index < sizes[i] && \"index out of bounds\"` failed.\n",
      "../aten/src/ATen/native/cuda/IndexKernel.cu:93: operator(): block: [3021,0,0], thread: [24,0,0] Assertion `-sizes[i] <= index && index < sizes[i] && \"index out of bounds\"` failed.\n",
      "../aten/src/ATen/native/cuda/IndexKernel.cu:93: operator(): block: [3021,0,0], thread: [25,0,0] Assertion `-sizes[i] <= index && index < sizes[i] && \"index out of bounds\"` failed.\n",
      "../aten/src/ATen/native/cuda/IndexKernel.cu:93: operator(): block: [3021,0,0], thread: [26,0,0] Assertion `-sizes[i] <= index && index < sizes[i] && \"index out of bounds\"` failed.\n",
      "../aten/src/ATen/native/cuda/IndexKernel.cu:93: operator(): block: [3021,0,0], thread: [27,0,0] Assertion `-sizes[i] <= index && index < sizes[i] && \"index out of bounds\"` failed.\n",
      "../aten/src/ATen/native/cuda/IndexKernel.cu:93: operator(): block: [3021,0,0], thread: [28,0,0] Assertion `-sizes[i] <= index && index < sizes[i] && \"index out of bounds\"` failed.\n",
      "../aten/src/ATen/native/cuda/IndexKernel.cu:93: operator(): block: [3021,0,0], thread: [29,0,0] Assertion `-sizes[i] <= index && index < sizes[i] && \"index out of bounds\"` failed.\n",
      "../aten/src/ATen/native/cuda/IndexKernel.cu:93: operator(): block: [3021,0,0], thread: [30,0,0] Assertion `-sizes[i] <= index && index < sizes[i] && \"index out of bounds\"` failed.\n",
      "../aten/src/ATen/native/cuda/IndexKernel.cu:93: operator(): block: [3021,0,0], thread: [31,0,0] Assertion `-sizes[i] <= index && index < sizes[i] && \"index out of bounds\"` failed.\n"
     ]
    },
    {
     "ename": "RuntimeError",
     "evalue": "CUDA error: device-side assert triggered\nCUDA kernel errors might be asynchronously reported at some other API call, so the stacktrace below might be incorrect.\nFor debugging consider passing CUDA_LAUNCH_BLOCKING=1\nCompile with `TORCH_USE_CUDA_DSA` to enable device-side assertions.\n",
     "output_type": "error",
     "traceback": [
      "\u001b[0;31m---------------------------------------------------------------------------\u001b[0m",
      "\u001b[0;31mRuntimeError\u001b[0m                              Traceback (most recent call last)",
      "Cell \u001b[0;32mIn[16], line 13\u001b[0m\n\u001b[1;32m     11\u001b[0m \u001b[38;5;66;03m# Validation embeddings\u001b[39;00m\n\u001b[1;32m     12\u001b[0m val_user_embeddings \u001b[38;5;241m=\u001b[39m user_embeddings[val_user_ids]\n\u001b[0;32m---> 13\u001b[0m val_post_embeddings \u001b[38;5;241m=\u001b[39m \u001b[43mpost_embeddings\u001b[49m\u001b[43m[\u001b[49m\u001b[43mval_post_ids\u001b[49m\u001b[43m \u001b[49m\u001b[38;5;241;43m-\u001b[39;49m\u001b[43m \u001b[49m\u001b[43mcombined_data\u001b[49m\u001b[38;5;241;43m.\u001b[39;49m\u001b[43mnum_users\u001b[49m\u001b[43m]\u001b[49m  \u001b[38;5;66;03m# Subtract offset for posts\u001b[39;00m\n\u001b[1;32m     15\u001b[0m \u001b[38;5;66;03m# Test embeddings\u001b[39;00m\n\u001b[1;32m     16\u001b[0m test_user_embeddings \u001b[38;5;241m=\u001b[39m user_embeddings[test_user_ids]\n",
      "\u001b[0;31mRuntimeError\u001b[0m: CUDA error: device-side assert triggered\nCUDA kernel errors might be asynchronously reported at some other API call, so the stacktrace below might be incorrect.\nFor debugging consider passing CUDA_LAUNCH_BLOCKING=1\nCompile with `TORCH_USE_CUDA_DSA` to enable device-side assertions.\n"
     ]
    }
   ],
   "source": [
    "val_edge_index = combined_data.edge_index[:, combined_data.val_mask]\n",
    "test_edge_index = combined_data.edge_index[:, combined_data.test_mask]\n",
    "# Validation users and posts\n",
    "val_user_ids = torch.unique(val_edge_index[0])  # Users are in the first row\n",
    "val_post_ids = torch.unique(val_edge_index[1])  # Posts are in the second row\n",
    "\n",
    "# Test users and posts\n",
    "test_user_ids = torch.unique(test_edge_index[0])  # Users are in the first row\n",
    "test_post_ids = torch.unique(test_edge_index[1])  # Posts are in the second row\n",
    "\n",
    "# Validation embeddings\n",
    "val_user_embeddings = user_embeddings[val_user_ids]\n",
    "val_post_embeddings = post_embeddings[val_post_ids - combined_data.num_train]  # Subtract offset for posts\n",
    "\n",
    "# Test embeddings\n",
    "test_user_embeddings = user_embeddings[test_user_ids]\n",
    "test_post_embeddings = post_embeddings[test_post_ids - combined_data.num_users]  # Subtract offset for posts\n"
   ]
  },
  {
   "cell_type": "code",
   "execution_count": 2,
   "metadata": {},
   "outputs": [
    {
     "name": "stderr",
     "output_type": "stream",
     "text": [
      "Epoch 01: 100%|██████████| 1081/1081 [03:24<00:00,  5.28it/s, batch_loss=0.0849]"
     ]
    },
    {
     "name": "stdout",
     "output_type": "stream",
     "text": [
      "\n",
      "Epoch 01 Summary:\n",
      "  Average Loss: 0.1060\n",
      "  Min Batch Loss: 0.0711\n",
      "  Max Batch Loss: 0.6931\n",
      "  Loss Std Dev: 0.0830\n",
      "\n",
      "Number of nodes: 4862430. Number of users: 83884. Number of posts: 4778546\n",
      "Number of edges: 35407992. Number of likes: 22131398\n"
     ]
    },
    {
     "name": "stderr",
     "output_type": "stream",
     "text": [
      "\n"
     ]
    }
   ],
   "source": [
    "model = train_lightgcn(train_data, embedding_dim=32, num_layers=1, epochs=1)\n",
    "\n",
    "# Get number of nodes and edges\n",
    "print(f\"Number of nodes: {train_data.num_nodes}. Number of users: {train_data.num_users}. Number of posts: {train_data.num_items}\")\n",
    "print(f\"Number of edges: {train_data.num_edges}. Number of likes: {len(likes_df)}\") # remember edges are doubled then coalesced (deduplicated, sorted, etc.)"
   ]
  },
  {
   "cell_type": "code",
   "execution_count": 3,
   "metadata": {},
   "outputs": [
    {
     "name": "stderr",
     "output_type": "stream",
     "text": [
      "100%|██████████| 56/56 [00:23<00:00,  2.38it/s]"
     ]
    },
    {
     "name": "stdout",
     "output_type": "stream",
     "text": [
      "\n",
      "Evaluation Results:\n",
      "--------------------------------------------------\n",
      "Recall@K Scores:\n",
      "Recall@   20: 0.0085\n",
      "Recall@  100: 0.0367\n",
      "Recall@  500: 0.1337\n",
      "Recall@ 1000: 0.2231\n",
      "Recall@ 5000: 0.6343\n",
      "Recall@10000: 0.8576\n",
      "Recall@20000: 1.0000\n",
      "--------------------------------------------------\n",
      "\n",
      "Test Set Statistics:\n",
      "Number of users: 7062\n",
      "Total posts: 38186\n",
      "Average posts per user: 5.41\n",
      "\n",
      "Post distribution:\n",
      "Min posts per user: 1\n",
      "Max posts per user: 382\n"
     ]
    },
    {
     "name": "stderr",
     "output_type": "stream",
     "text": [
      "\n"
     ]
    }
   ],
   "source": [
    "# Evaluate the model\n",
    "recall_scores = evaluate_recommendations(model, test_interactions, test_data, k_values=[20, 100, 500,1000, 5000, 10000, 20000])\n",
    "\n",
    "# Print results\n",
    "print(\"\\nEvaluation Results:\")\n",
    "print(\"-\" * 50)\n",
    "print(\"Recall@K Scores:\")\n",
    "for k, score in recall_scores.items():\n",
    "    print(f\"Recall@{k:5d}: {score:.4f}\")\n",
    "print(\"-\" * 50)\n",
    "\n",
    "# Print some statistics about the test set\n",
    "num_users = len(test_interactions)\n",
    "num_posts = sum(len(posts) for posts in test_interactions.values())\n",
    "avg_posts = num_posts / num_users\n",
    "\n",
    "print(f\"\\nTest Set Statistics:\")\n",
    "print(f\"Number of users: {num_users}\")\n",
    "print(f\"Total posts: {num_posts}\")\n",
    "print(f\"Average posts per user: {avg_posts:.2f}\")\n",
    "\n",
    "# Print distribution of posts per user\n",
    "post_counts = [len(posts) for posts in test_interactions.values()]\n",
    "print(f\"\\nPost distribution:\")\n",
    "print(f\"Min posts per user: {min(post_counts)}\")\n",
    "print(f\"Max posts per user: {max(post_counts)}\")"
   ]
  },
  {
   "cell_type": "code",
   "execution_count": 4,
   "metadata": {},
   "outputs": [
    {
     "name": "stdout",
     "output_type": "stream",
     "text": [
      "Training embeddings shape: torch.Size([846526, 32])\n",
      "Test embeddings shape: torch.Size([22953, 32])\n"
     ]
    }
   ],
   "source": [
    "# Get training embeddings\n",
    "train_embeddings = model.get_embedding(train_data.edge_index.to(device))\n",
    "print(\"Training embeddings shape:\", train_embeddings.shape)\n",
    "\n",
    "# Get test embeddings - but only for nodes that appear in test edges\n",
    "test_nodes = torch.unique(test_data.edge_index)\n",
    "test_embeddings = model.get_embedding(test_data.edge_index.to(device))\n",
    "test_embeddings = test_embeddings[test_nodes]\n",
    "print(\"Test embeddings shape:\", test_embeddings.shape)"
   ]
  },
  {
   "cell_type": "code",
   "execution_count": 5,
   "metadata": {},
   "outputs": [
    {
     "name": "stdout",
     "output_type": "stream",
     "text": [
      "Recommendations for user did:plc:e2a2sywvv7dwlu4h4qdt3h7j\n",
      "User profile: https://bsky.app/profile/did:plc:e2a2sywvv7dwlu4h4qdt3h7j\n",
      "\n",
      "User's 5 most recent likes:\n",
      "--------------------------------------------------\n",
      "Liked on: 2023-04-29 03:02:05.147000\n",
      "Post: https://bsky.app/profile/did:plc:oideekcq5mb76zg6sc5ntbly/post/3jui4a5d7lu2m\n",
      "\n",
      "Liked on: 2023-04-18 03:21:07.003000\n",
      "Post: https://bsky.app/profile/did:plc:vpkhqolt662uhesyj6nxm7ys/post/3jtmca54xqs26\n",
      "\n",
      "Liked on: 2023-04-18 03:19:31.663000\n",
      "Post: https://bsky.app/profile/did:plc:ukxj2up3soemlxv26h6s6tfb/post/3jtmg6xyuw526\n",
      "\n",
      "Liked on: 2023-03-24 18:24:15.454000\n",
      "Post: https://bsky.app/profile/did:plc:t2xgjn25va5r5m3prh6ssuhi/post/3jrkujpel4c22\n",
      "\n",
      "Liked on: 2023-03-15 17:47:39.734000\n",
      "Post: https://bsky.app/profile/did:plc:7yhhddnpipsbj57ybzduaov3/post/3jqvovw6o432s\n",
      "\n",
      "\n",
      "Recommended posts:\n",
      "--------------------------------------------------\n",
      "\n",
      "1. By @did:plc:ragtjsm2j2vknwkz3zp4oxrd\n",
      "   https://bsky.app/profile/did:plc:ragtjsm2j2vknwkz3zp4oxrd/post/3jtqhia5mxe2z\n",
      "   Posted: 2023-04-19 17:00:27.839000\n",
      "   Text: 📢 Android is finally here! 🎉\n",
      "\n",
      "Google takes a while to update their search so here’s the direct link:\n",
      "\n",
      "https://play.google.com/store/apps/details?id=xyz.blueskyweb.app&hl=en_US...\n",
      "\n",
      "2. By @Unknown\n",
      "   https://bsky.app/profile/did:plc:umasif5o4jft7uyas6kfw45m/post/3jtdym5rbfs2s\n",
      "   Posted: Unknown\n",
      "   Text: Post not found...\n",
      "\n",
      "3. By @did:plc:zgeg2yrcoycwnhut27p74ppw\n",
      "   https://bsky.app/profile/did:plc:zgeg2yrcoycwnhut27p74ppw/post/3jtw26j4a6k2e\n",
      "   Posted: 2023-04-21 22:18:21.490000\n",
      "   Text: @coisadenerd.bsky.social na área...\n",
      "\n",
      "4. By @did:plc:z72i7hdynmk6r22z27h6tvur\n",
      "   https://bsky.app/profile/did:plc:z72i7hdynmk6r22z27h6tvur/post/3jt6walwmos2y\n",
      "   Posted: 2023-04-12 17:36:42.427000\n",
      "   Text: How it started:...\n",
      "\n",
      "5. By @did:plc:dimjrgeatypdz72m4okacmrt\n",
      "   https://bsky.app/profile/did:plc:dimjrgeatypdz72m4okacmrt/post/3jta7367fec2w\n",
      "   Posted: 2023-04-13 05:47:23.878000\n",
      "   Text: the bluesky timeline is called \n",
      "the skyline...\n",
      "\n",
      "6. By @did:plc:ragtjsm2j2vknwkz3zp4oxrd\n",
      "   https://bsky.app/profile/did:plc:ragtjsm2j2vknwkz3zp4oxrd/post/3jspibkdx722w\n",
      "   Posted: 2023-04-06 14:16:45.969000\n",
      "   Text: To all the new users joining us: welcome! We're so happy to have you.\n",
      "\n",
      "You're here during a closed beta. We're still fixing lots of bugs and finishing the core tech & features such as custom algorithm...\n",
      "\n",
      "7. By @did:plc:dc2t4ajxngmuym3om5njlatc\n",
      "   https://bsky.app/profile/did:plc:dc2t4ajxngmuym3om5njlatc/post/3jsqiazchr22i\n",
      "   Posted: 2023-04-06 23:49:07.899000\n",
      "   Text: Estamos entre 8 e 10k usuários aqui no total\n",
      "Bom d+ estar acompanhando o nascimento de uma rede ❤️...\n",
      "\n",
      "8. By @did:plc:pdac24jyypwultrppa457voe\n",
      "   https://bsky.app/profile/did:plc:pdac24jyypwultrppa457voe/post/3jtbac3zlzb26\n",
      "   Posted: 2023-04-13 15:41:49.895000\n",
      "   Text: 20,000 users and counting! 😳🔥💪\n",
      "Bluesky is growing fast and making waves. 🌊...\n",
      "\n",
      "9. By @did:plc:tgxolrj6wkcputrww7zj5wlb\n",
      "   https://bsky.app/profile/did:plc:tgxolrj6wkcputrww7zj5wlb/post/3jsujw6lilc2e\n",
      "   Posted: 2023-04-08 14:29:30.647000\n",
      "   Text: Beyoncé é a maior artista de todos os tempos. Quem concorda respira....\n",
      "\n",
      "10. By @did:plc:z72i7hdynmk6r22z27h6tvur\n",
      "   https://bsky.app/profile/did:plc:z72i7hdynmk6r22z27h6tvur/post/3jt6wgfuuvs23\n",
      "   Posted: 2023-04-12 17:39:57.412000\n",
      "   Text: How it’s going: \n",
      "\n",
      "Welcome to the first app built on atproto! \n",
      "\n",
      "https://atproto.com/...\n",
      "\n",
      "11. By @Unknown\n",
      "   https://bsky.app/profile/did:plc:oky5czdrnfjpqslsw2a5iclo/post/3jqffomsixc2w\n",
      "   Posted: Unknown\n",
      "   Text: Post not found...\n",
      "\n",
      "12. By @did:plc:pdac24jyypwultrppa457voe\n",
      "   https://bsky.app/profile/did:plc:pdac24jyypwultrppa457voe/post/3jstmkhbnzk2i\n",
      "   Posted: 2023-04-08 05:43:58.301000\n",
      "   Text: 10,000 users on Bluesky and counting! 🎊\n",
      "This is just the beginning of something truly special. I can't wait to see how we grow and make a difference in the world together. \n",
      "Let's keep the positive ene...\n",
      "\n",
      "13. By @did:plc:p7gxyfr5vii5ntpwo7f6dhe2\n",
      "   https://bsky.app/profile/did:plc:p7gxyfr5vii5ntpwo7f6dhe2/post/3juf52klwc72i\n",
      "   Posted: 2023-04-27 22:19:46.107000\n",
      "   Text: Here you go!...\n",
      "\n",
      "14. By @did:plc:cm4bwax4evxmkiuwxvvkvlmx\n",
      "   https://bsky.app/profile/did:plc:cm4bwax4evxmkiuwxvvkvlmx/post/3jspip7zqqk2t\n",
      "   Posted: 2023-04-06 14:24:24.887000\n",
      "   Text: Welcome 👋...\n",
      "\n",
      "15. By @did:plc:pdac24jyypwultrppa457voe\n",
      "   https://bsky.app/profile/did:plc:pdac24jyypwultrppa457voe/post/3juasdlywee2z\n",
      "   Posted: 2023-04-26 04:57:18.946000\n",
      "   Text: 🎉 Woohoo! 4️⃣0️⃣,0️⃣0️⃣0️⃣ users on Bluesky! 🚀 Next stop 50k! Let's keep the community thriving. 🌟💪🏼...\n",
      "\n",
      "16. By @did:plc:gtup3dkpbf76d4v3jkdvdrhh\n",
      "   https://bsky.app/profile/did:plc:gtup3dkpbf76d4v3jkdvdrhh/post/3jtqkujmo3c2n\n",
      "   Posted: 2023-04-19 18:00:59.814000\n",
      "   Text: ATENÇÃO ANDROIDERS! 🚨 Habemus app 🥰...\n",
      "\n",
      "17. By @Unknown\n",
      "   https://bsky.app/profile/did:plc:iijrtk7ocored6zuziwmqq3c/post/3jtenlp2qa32r\n",
      "   Posted: Unknown\n",
      "   Text: Post not found...\n",
      "\n",
      "18. By @did:plc:vjug55kidv6sye7ykr5faxxn\n",
      "   https://bsky.app/profile/did:plc:vjug55kidv6sye7ykr5faxxn/post/3ju552mutgu2b\n",
      "   Posted: 2023-04-24 17:58:30.594000\n",
      "   Text: today is my first day with the @bsky.app team! (new handle 👀)\n",
      "\n",
      "i’ll be focused on developer relations and community 😊 \n",
      "\n",
      "if you build something on atproto or have feedback, tag/email me anytime! emily@...\n",
      "\n",
      "19. By @did:plc:oky5czdrnfjpqslsw2a5iclo\n",
      "   https://bsky.app/profile/did:plc:oky5czdrnfjpqslsw2a5iclo/post/3jto7vjqzwy2r\n",
      "   Posted: 2023-04-18 19:39:24.719000\n",
      "   Text: Did you know there’s a status page for bluesky & atproto services? If something doesn’t seem to be working, try checking \n",
      "\n",
      "https://status.bsky.app/...\n",
      "\n",
      "20. By @Unknown\n",
      "   https://bsky.app/profile/did:plc:36tmqxxepo5jlx54peygtx6i/post/3jtu65gakkh2f\n",
      "   Posted: Unknown\n",
      "   Text: Post not found...\n"
     ]
    }
   ],
   "source": [
    "user_idx_example = 1014\n",
    "user_did, user_profile_url, recommendations, rec_content = recommend_for_user(model, user_idx_example, train_data, top_k=20)\n",
    "\n",
    "# Get user's recent likes\n",
    "user_likes = likes_df[likes_df['user_uri'] == user_did].sort_values('timestamp', ascending=False).head(5)\n",
    "\n",
    "print(f\"Recommendations for user {user_did}\")\n",
    "print(f\"User profile: {user_profile_url}\")\n",
    "\n",
    "print(\"\\nUser's 5 most recent likes:\")\n",
    "print(\"-\" * 50)\n",
    "for _, like in user_likes.iterrows():\n",
    "    post_uri = like['post_uri']\n",
    "    timestamp = like['timestamp']\n",
    "    # Convert AT URI to web URL\n",
    "    parts = post_uri.split('/')\n",
    "    post_did = parts[2]\n",
    "    post_id = parts[-1]\n",
    "    web_url = f\"https://bsky.app/profile/{post_did}/post/{post_id}\"\n",
    "    print(f\"Liked on: {timestamp}\")\n",
    "    print(f\"Post: {web_url}\\n\")\n",
    "\n",
    "print(\"\\nRecommended posts:\")\n",
    "print(\"-\" * 50)\n",
    "for i, (at_uri, web_url) in enumerate(recommendations, 1):\n",
    "    content = rec_content.get(at_uri, {'text': 'Post not found', 'author': 'Unknown', 'created_at': 'Unknown'})\n",
    "    print(f\"\\n{i}. By @{content['author']}\")\n",
    "    print(f\"   {web_url}\")\n",
    "    print(f\"   Posted: {content['created_at']}\")\n",
    "    print(f\"   Text: {content['text'][:200]}...\")  # Truncate long posts"
   ]
  },
  {
   "cell_type": "code",
   "execution_count": 6,
   "metadata": {},
   "outputs": [
    {
     "name": "stdout",
     "output_type": "stream",
     "text": [
      "1000: https://bsky.app/profile/did:plc:siu4mwwnhd32x3n4ci2xytgt\n",
      "    Likes: 217\n",
      "    Following: 217\n",
      "1001: https://bsky.app/profile/did:plc:zpkygt5hct4ye6tlmusv5mvb\n",
      "    Likes: 59\n",
      "    Following: 59\n",
      "1002: https://bsky.app/profile/did:plc:u4mi54yplxzlrtdgubbs2r7k\n",
      "    Likes: 221\n",
      "    Following: 221\n",
      "1003: https://bsky.app/profile/did:plc:ksyu6kwmhge4uh3nxnn3o7c4\n",
      "    Likes: 399\n",
      "    Following: 393\n",
      "1004: https://bsky.app/profile/did:plc:46375o72emh22j3bgeltmw4x\n",
      "    Likes: 11\n",
      "    Following: 11\n",
      "1005: https://bsky.app/profile/did:plc:kz5wsopyrb2o6vlh2lkjt4v7\n",
      "    Likes: 32\n",
      "    Following: 32\n",
      "1006: https://bsky.app/profile/did:plc:dyjm3keeut27qu4sno7ow7ry\n",
      "    Likes: 495\n",
      "    Following: 471\n",
      "1007: https://bsky.app/profile/did:plc:2gj5zzmaa5pgc3c7hv334j5l\n",
      "    Likes: 99\n",
      "    Following: 97\n",
      "1008: https://bsky.app/profile/did:plc:tz45rben2kkv2vcahflgdtlt\n",
      "    Likes: 22\n",
      "    Following: 19\n",
      "1009: https://bsky.app/profile/did:plc:nu5ivyol6dytbro5o2yxqo5d\n",
      "    Likes: 313\n",
      "    Following: 311\n",
      "1010: https://bsky.app/profile/did:plc:ejatg3se6qwjnstzqf7v4ycu\n",
      "    Likes: 131\n",
      "    Following: 131\n",
      "1011: https://bsky.app/profile/did:plc:4qilb4db4c6tq6xh4ognfdko\n",
      "    Likes: 31\n",
      "    Following: 31\n",
      "1012: https://bsky.app/profile/did:plc:jg56j7ljngu5crv5oaszmgfg\n",
      "    Likes: 106\n",
      "    Following: 105\n",
      "1013: https://bsky.app/profile/did:plc:roucbhcwc4asyyj3zb4g3oi3\n",
      "    Likes: 7\n",
      "    Following: 7\n",
      "1014: https://bsky.app/profile/did:plc:e2a2sywvv7dwlu4h4qdt3h7j\n",
      "    Likes: 8\n",
      "    Following: 8\n",
      "1015: https://bsky.app/profile/did:plc:owokgmcsme62sekufvvai6vq\n",
      "    Likes: 3\n",
      "    Following: 3\n",
      "1016: https://bsky.app/profile/did:plc:bamz2dkhg4ul67v4cv5ugwfu\n",
      "    Likes: 1\n",
      "    Following: 1\n",
      "1017: https://bsky.app/profile/did:plc:pnmg262atn7aysuak2hqas62\n",
      "    Likes: 1024\n",
      "    Following: 1020\n",
      "1018: https://bsky.app/profile/did:plc:nazcqnt5dx4cqmxe7mcmmo5k\n",
      "    Likes: 6\n",
      "    Following: 6\n",
      "1019: https://bsky.app/profile/did:plc:h4ji2namjlszrxfo7poklcqd\n",
      "    Likes: 3\n",
      "    Following: 3\n",
      "1020: https://bsky.app/profile/did:plc:atf6cahrjn5ndj5amc4dogyf\n",
      "    Likes: 17\n",
      "    Following: 16\n",
      "1021: https://bsky.app/profile/did:plc:wfatjznka4m33cz5a2uvc6iw\n",
      "    Likes: 2\n",
      "    Following: 2\n",
      "1022: https://bsky.app/profile/did:plc:dfxzd6hcoecmxkmhhtbv6xlr\n",
      "    Likes: 657\n",
      "    Following: 612\n",
      "1023: https://bsky.app/profile/did:plc:nxhpmqocl7eb3zhsk7m3gcvt\n",
      "    Likes: 1963\n",
      "    Following: 1927\n",
      "1024: https://bsky.app/profile/did:plc:hdppwrjlsvy33pzsqtaoaa7u\n",
      "    Likes: 1\n",
      "    Following: 1\n",
      "1025: https://bsky.app/profile/did:plc:p3ts2n22yi72onp5qi42judd\n",
      "    Likes: 43\n",
      "    Following: 43\n",
      "1026: https://bsky.app/profile/did:plc:lwt6nl7tx3jriyb2s23bcxxz\n",
      "    Likes: 25\n",
      "    Following: 25\n",
      "1027: https://bsky.app/profile/did:plc:enrdnyyv2bueontdxwzxni57\n",
      "    Likes: 3\n",
      "    Following: 3\n",
      "1028: https://bsky.app/profile/did:plc:x2z7iohjjqhtgkqxnhjgwpxb\n",
      "    Likes: 4\n",
      "    Following: 4\n",
      "1029: https://bsky.app/profile/did:plc:mwdmy7pwr6kdpnvn7digrg5d\n",
      "    Likes: 5\n",
      "    Following: 5\n"
     ]
    }
   ],
   "source": [
    "# Get URLs and stats for some 30 users\n",
    "inv_user2id = {v: k for k, v in train_data.user2id.items()}\n",
    "for user_idx in range(1000, 1030):  # change this to whatever you want to look at different users\n",
    "    user_did = inv_user2id[user_idx]  # user_uri is already in DID format\n",
    "    profile_url = f\"https://bsky.app/profile/{user_did}\"\n",
    "    \n",
    "    # Get number of likes and following\n",
    "    user_likes_count = len(likes_df[likes_df['user_uri'] == user_did])\n",
    "    user_following_count = len(train_data.edge_index[0][train_data.edge_index[0] == user_idx])\n",
    "    \n",
    "    print(f\"{user_idx}: {profile_url}\")\n",
    "    print(f\"    Likes: {user_likes_count}\")\n",
    "    print(f\"    Following: {user_following_count}\")"
   ]
  },
  {
   "cell_type": "code",
   "execution_count": 11,
   "metadata": {},
   "outputs": [
    {
     "name": "stdout",
     "output_type": "stream",
     "text": [
      "User profile: https://bsky.app/profile/did:plc:e2a2sywvv7dwlu4h4qdt3h7j\n",
      "Similar users to user index 1014:\n",
      "--------------------------------------------------\n",
      "Similarity score: 0.7648\n",
      "Profile: https://bsky.app/profile/did:plc:sqvt4jbt6tjjarugjlw5ycnn\n",
      "\n",
      "Similarity score: 0.7344\n",
      "Profile: https://bsky.app/profile/did:plc:yp255lkwkcal42wd55ywfum2\n",
      "\n",
      "Similarity score: 0.7071\n",
      "Profile: https://bsky.app/profile/did:plc:lipqor2zk6q6sagskv5pzees\n",
      "\n",
      "Similarity score: 0.7069\n",
      "Profile: https://bsky.app/profile/did:plc:ns7pzrboi4swrz7gpacdcia3\n",
      "\n",
      "Similarity score: 0.7027\n",
      "Profile: https://bsky.app/profile/did:plc:jg6ouvyo7inrrxvllqqelkao\n",
      "\n"
     ]
    }
   ],
   "source": [
    "def find_similar_users(model, user_idx, train_data, top_k=5):\n",
    "    # Get all embeddings\n",
    "    embeddings = model.get_embedding(train_data.edge_index.to(device))\n",
    "    \n",
    "    # Get user embeddings only\n",
    "    user_embeddings = embeddings[:train_data.num_users]\n",
    "    \n",
    "    # Calculate cosine similarity between target user and all other users\n",
    "    target_embedding = user_embeddings[user_idx].unsqueeze(0)\n",
    "    cos = torch.nn.CosineSimilarity(dim=1)\n",
    "    similarities = cos(target_embedding, user_embeddings)\n",
    "    \n",
    "    # Get top-k similar users (excluding the user themselves)\n",
    "    similarities[user_idx] = -1  # Exclude self\n",
    "    top_similar = torch.topk(similarities, k=top_k)\n",
    "    \n",
    "    # Convert user indices back to DIDs\n",
    "    inv_user2id = {v: k for k, v in train_data.user2id.items()}\n",
    "    similar_users = []\n",
    "    \n",
    "    # Add .detach() before .numpy()\n",
    "    for idx, score in zip(top_similar.indices.cpu().detach().numpy(), \n",
    "                         top_similar.values.cpu().detach().numpy()):\n",
    "        user_did = inv_user2id[idx]\n",
    "        profile_url = f\"https://bsky.app/profile/{user_did}\"\n",
    "        similar_users.append((profile_url, score))\n",
    "    \n",
    "    return similar_users\n",
    "\n",
    "# Example usage:\n",
    "user_idx_example = 1014  # You can change this to any user index\n",
    "similar_users = find_similar_users(model, user_idx_example, train_data, top_k=5)\n",
    "\n",
    "print(f\"User profile: {user_profile_url}\")\n",
    "print(f\"Similar users to user index {user_idx_example}:\")\n",
    "print(\"-\" * 50)\n",
    "for profile_url, similarity_score in similar_users:\n",
    "    print(f\"Similarity score: {similarity_score:.4f}\")\n",
    "    print(f\"Profile: {profile_url}\\n\")"
   ]
  }
 ],
 "metadata": {
  "kernelspec": {
   "display_name": "bluesky",
   "language": "python",
   "name": "bluesky"
  },
  "language_info": {
   "codemirror_mode": {
    "name": "ipython",
    "version": 3
   },
   "file_extension": ".py",
   "mimetype": "text/x-python",
   "name": "python",
   "nbconvert_exporter": "python",
   "pygments_lexer": "ipython3",
   "version": "3.11.9"
  }
 },
 "nbformat": 4,
 "nbformat_minor": 4
}

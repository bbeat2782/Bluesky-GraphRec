{
 "cells": [
  {
   "cell_type": "code",
   "execution_count": 1,
   "id": "97990d68-5c2d-478e-a9a5-f2c705424499",
   "metadata": {},
   "outputs": [],
   "source": [
    "import duckdb\n",
    "import pandas as pd\n",
    "import torch\n",
    "import torch.nn as nn\n",
    "import torch.nn.functional as F\n",
    "import scipy.sparse as sp\n",
    "import numpy as np\n",
    "from factorize import factorize\n",
    "from tqdm import tqdm\n",
    "import pickle\n",
    "from collections import defaultdict\n",
    "import faiss\n",
    "import os\n",
    "import json\n",
    "import numpy as np\n",
    "import scipy.sparse as sp\n",
    "import hashlib\n",
    "from datetime import datetime, timedelta\n",
    "\n",
    "\n",
    "def get_mapping_hash(mapping):\n",
    "    \"\"\"\n",
    "    Create a deterministic hash of a mapping dictionary.\n",
    "    \"\"\"\n",
    "    # Convert mapping to a sorted list of tuples to ensure consistent ordering\n",
    "    sorted_items = sorted(mapping.items())\n",
    "    # Convert to string and encode to bytes\n",
    "    mapping_str = json.dumps(sorted_items)\n",
    "    return hashlib.sha256(mapping_str.encode()).hexdigest()\n",
    "\n",
    "def load_mapping(mapping_file):\n",
    "    \"\"\"\n",
    "    Load a mapping from a JSON file. If the file doesn't exist, return an empty dict.\n",
    "    \"\"\"\n",
    "    if os.path.exists(mapping_file):\n",
    "        with open(mapping_file, \"r\") as f:\n",
    "            mapping = json.load(f)\n",
    "    else:\n",
    "        mapping = {}\n",
    "    return mapping\n",
    "\n",
    "def update_mapping(mapping, new_items):\n",
    "    \"\"\"\n",
    "    Update the mapping with new items. New items are appended by assigning \n",
    "    them an index equal to the current length of the mapping.\n",
    "    \"\"\"\n",
    "    for item in new_items:\n",
    "        if item not in mapping:\n",
    "            mapping[item] = len(mapping)\n",
    "    return mapping\n",
    "\n",
    "\n",
    "device = torch.device('cuda' if torch.cuda.is_available() else 'cpu')\n",
    "con = duckdb.connect('/home/sgan/scan_results.duckdb')\n",
    "torch.manual_seed(42)  # IMPORTANT: temporary solution for deterministic results. Need this so that consumer_embeddings stays the same across runs.\n",
    "\n",
    "def create_user_embedding(end_date):\n",
    "    train_producer_df = con.execute(f\"\"\"\n",
    "    WITH producers AS (\n",
    "        SELECT \n",
    "            json_extract_string(record, '$.subject') as producer_did\n",
    "        FROM records \n",
    "        WHERE collection = 'app.bsky.graph.follow'\n",
    "        AND createdAt < '{end_date}'  -- before training cutoff date\n",
    "        AND createdAt >= '2023-01-01' \n",
    "        GROUP BY json_extract_string(record, '$.subject')\n",
    "        HAVING COUNT(*) >= 30\n",
    "    )\n",
    "    SELECT producer_did\n",
    "    FROM producers\n",
    "    \"\"\").fetchdf()\n",
    "\n",
    "    # Get the edges (consumer-producer relationships)\n",
    "    train_edges_df = con.execute(\"\"\"\n",
    "    SELECT \n",
    "        repo as consumer_did,\n",
    "        json_extract_string(record, '$.subject') as producer_did\n",
    "    FROM records\n",
    "    WHERE \n",
    "        collection = 'app.bsky.graph.follow'\n",
    "        AND json_extract_string(record, '$.subject') IN (SELECT producer_did FROM train_producer_df)\n",
    "    \"\"\").fetchdf()\n",
    "\n",
    "    \n",
    "    # File paths for persistent mappings\n",
    "    consumer_mapping_file = 'consumer_mapping.json'\n",
    "    producer_mapping_file = 'producer_mapping.json'\n",
    "    hash_file = 'mappings_hash.json'\n",
    "    \n",
    "    # Load existing mappings (or create new ones if they don't exist)\n",
    "    consumer_to_idx = load_mapping(consumer_mapping_file)\n",
    "    producer_to_idx = load_mapping(producer_mapping_file)\n",
    "    \n",
    "    # Store original hashes\n",
    "    original_hashes = {\n",
    "        'consumer': get_mapping_hash(consumer_to_idx),\n",
    "        'producer': get_mapping_hash(producer_to_idx)\n",
    "    }\n",
    "    \n",
    "    # Get new DIDs from the current training data\n",
    "    new_consumers = train_edges_df['consumer_did'].unique().tolist()\n",
    "    new_producers = train_producer_df['producer_did'].unique().tolist()\n",
    "    \n",
    "    # Update the mappings with any new DIDs\n",
    "    consumer_to_idx = update_mapping(consumer_to_idx, new_consumers)\n",
    "    producer_to_idx = update_mapping(producer_to_idx, new_producers)\n",
    "    \n",
    "    # Get new hashes\n",
    "    new_hashes = {\n",
    "        'consumer': get_mapping_hash(consumer_to_idx),\n",
    "        'producer': get_mapping_hash(producer_to_idx)\n",
    "    }\n",
    "    \n",
    "    # Check if mappings changed\n",
    "    mappings_changed = (original_hashes != new_hashes)\n",
    "    \n",
    "    if mappings_changed:\n",
    "        print(\"Warning: Mappings have changed! You should recompute post embeddings.\")\n",
    "        # Save the updated mappings to disk\n",
    "        with open(consumer_mapping_file, 'w') as f:\n",
    "            json.dump(consumer_to_idx, f)\n",
    "        with open(producer_mapping_file, 'w') as f:\n",
    "            json.dump(producer_to_idx, f)\n",
    "        # Save the new hashes\n",
    "        with open(hash_file, 'w') as f:\n",
    "            json.dump(new_hashes, f)\n",
    "    else:\n",
    "        print(\"Mappings unchanged, safe to use existing post embeddings.\")\n",
    "\n",
    "    # Create sparse matrix in COO format; each edge has weight 1\n",
    "    rows = [consumer_to_idx[consumer] for consumer in train_edges_df['consumer_did']]\n",
    "    cols = [producer_to_idx[producer] for producer in train_edges_df['producer_did']]\n",
    "    data = np.ones(len(rows))\n",
    "    \n",
    "    # Build the sparse matrix (then convert to CSR format for efficient multiplication)\n",
    "    matrix = sp.coo_matrix(\n",
    "        (data, (rows, cols)),\n",
    "        shape=(len(consumer_to_idx), len(producer_to_idx))\n",
    "    )\n",
    "    \n",
    "    print(\"Matrix shape:\", matrix.shape)\n",
    "\n",
    "    producer_community_affinities, consumer_embeddings, kmeans_cluster_centers = factorize(\n",
    "        matrix, \n",
    "        algorithm='svd',\n",
    "        n_components=64,\n",
    "        n_clusters=100,\n",
    "        device=device\n",
    "    )\n",
    "\n",
    "    return consumer_embeddings, consumer_to_idx"
   ]
  },
  {
   "cell_type": "code",
   "execution_count": 2,
   "id": "57d87ef1-d1cd-413d-a1df-ad11e1edba43",
   "metadata": {},
   "outputs": [
    {
     "data": {
      "application/vnd.jupyter.widget-view+json": {
       "model_id": "f69ceac6c84240559834d650e6ffe9d3",
       "version_major": 2,
       "version_minor": 0
      },
      "text/plain": [
       "FloatProgress(value=0.0, layout=Layout(width='auto'), style=ProgressStyle(bar_color='black'))"
      ]
     },
     "metadata": {},
     "output_type": "display_data"
    },
    {
     "data": {
      "application/vnd.jupyter.widget-view+json": {
       "model_id": "48371fff82ae482ba08ccd4c6d5c0fb7",
       "version_major": 2,
       "version_minor": 0
      },
      "text/plain": [
       "FloatProgress(value=0.0, layout=Layout(width='auto'), style=ProgressStyle(bar_color='black'))"
      ]
     },
     "metadata": {},
     "output_type": "display_data"
    },
    {
     "name": "stdout",
     "output_type": "stream",
     "text": [
      "Warning: Mappings have changed! You should recompute post embeddings.\n",
      "Matrix shape: (56572, 677)\n",
      "Warning: Mappings have changed! You should recompute post embeddings.\n",
      "Matrix shape: (56596, 683)\n",
      "Warning: Mappings have changed! You should recompute post embeddings.\n",
      "Matrix shape: (56686, 691)\n",
      "Warning: Mappings have changed! You should recompute post embeddings.\n",
      "Matrix shape: (56816, 706)\n",
      "Warning: Mappings have changed! You should recompute post embeddings.\n",
      "Matrix shape: (57168, 713)\n",
      "Warning: Mappings have changed! You should recompute post embeddings.\n",
      "Matrix shape: (57226, 717)\n",
      "Warning: Mappings have changed! You should recompute post embeddings.\n",
      "Matrix shape: (57233, 721)\n",
      "Warning: Mappings have changed! You should recompute post embeddings.\n",
      "Matrix shape: (57382, 746)\n",
      "Warning: Mappings have changed! You should recompute post embeddings.\n",
      "Matrix shape: (57554, 767)\n",
      "Warning: Mappings have changed! You should recompute post embeddings.\n",
      "Matrix shape: (57591, 775)\n",
      "Warning: Mappings have changed! You should recompute post embeddings.\n",
      "Matrix shape: (57656, 781)\n",
      "Warning: Mappings have changed! You should recompute post embeddings.\n",
      "Matrix shape: (57701, 787)\n",
      "Warning: Mappings have changed! You should recompute post embeddings.\n",
      "Matrix shape: (57704, 793)\n",
      "Warning: Mappings have changed! You should recompute post embeddings.\n",
      "Matrix shape: (57864, 798)\n",
      "Warning: Mappings have changed! You should recompute post embeddings.\n",
      "Matrix shape: (58091, 810)\n",
      "Warning: Mappings have changed! You should recompute post embeddings.\n",
      "Matrix shape: (58133, 821)\n",
      "Warning: Mappings have changed! You should recompute post embeddings.\n",
      "Matrix shape: (58134, 826)\n",
      "Warning: Mappings have changed! You should recompute post embeddings.\n",
      "Matrix shape: (58146, 828)\n",
      "Warning: Mappings have changed! You should recompute post embeddings.\n",
      "Matrix shape: (58208, 835)\n",
      "Warning: Mappings have changed! You should recompute post embeddings.\n",
      "Matrix shape: (58248, 838)\n",
      "Warning: Mappings have changed! You should recompute post embeddings.\n",
      "Matrix shape: (58398, 839)\n",
      "Warning: Mappings have changed! You should recompute post embeddings.\n",
      "Matrix shape: (58405, 842)\n",
      "Warning: Mappings have changed! You should recompute post embeddings.\n",
      "Matrix shape: (58453, 845)\n",
      "Warning: Mappings have changed! You should recompute post embeddings.\n",
      "Matrix shape: (60871, 1137)\n",
      "Warning: Mappings have changed! You should recompute post embeddings.\n",
      "Matrix shape: (61619, 1313)\n",
      "Warning: Mappings have changed! You should recompute post embeddings.\n",
      "Matrix shape: (62500, 1435)\n",
      "Warning: Mappings have changed! You should recompute post embeddings.\n",
      "Matrix shape: (64011, 1611)\n",
      "Warning: Mappings have changed! You should recompute post embeddings.\n",
      "Matrix shape: (70320, 1932)\n",
      "Warning: Mappings have changed! You should recompute post embeddings.\n",
      "Matrix shape: (72357, 2277)\n",
      "Warning: Mappings have changed! You should recompute post embeddings.\n",
      "Matrix shape: (79128, 2635)\n",
      "Warning: Mappings have changed! You should recompute post embeddings.\n",
      "Matrix shape: (82039, 3079)\n",
      "Warning: Mappings have changed! You should recompute post embeddings.\n",
      "Matrix shape: (82783, 3331)\n",
      "Warning: Mappings have changed! You should recompute post embeddings.\n",
      "Matrix shape: (83693, 3555)\n",
      "Warning: Mappings have changed! You should recompute post embeddings.\n",
      "Matrix shape: (84845, 3832)\n",
      "Warning: Mappings have changed! You should recompute post embeddings.\n",
      "Matrix shape: (86017, 4287)\n",
      "Warning: Mappings have changed! You should recompute post embeddings.\n",
      "Matrix shape: (87581, 4757)\n",
      "Warning: Mappings have changed! You should recompute post embeddings.\n",
      "Matrix shape: (89343, 5584)\n",
      "Warning: Mappings have changed! You should recompute post embeddings.\n",
      "Matrix shape: (91093, 6139)\n",
      "Warning: Mappings have changed! You should recompute post embeddings.\n",
      "Matrix shape: (92970, 6778)\n",
      "Warning: Mappings have changed! You should recompute post embeddings.\n",
      "Matrix shape: (94402, 7386)\n",
      "Warning: Mappings have changed! You should recompute post embeddings.\n",
      "Matrix shape: (98171, 8006)\n",
      "Warning: Mappings have changed! You should recompute post embeddings.\n",
      "Matrix shape: (101422, 9172)\n",
      "Warning: Mappings have changed! You should recompute post embeddings.\n",
      "Matrix shape: (103894, 10278)\n",
      "Warning: Mappings have changed! You should recompute post embeddings.\n",
      "Matrix shape: (108123, 11769)\n",
      "Warning: Mappings have changed! You should recompute post embeddings.\n",
      "Matrix shape: (115387, 13314)\n",
      "Warning: Mappings have changed! You should recompute post embeddings.\n",
      "Matrix shape: (118947, 15521)\n",
      "Warning: Mappings have changed! You should recompute post embeddings.\n",
      "Matrix shape: (120678, 16500)\n",
      "Warning: Mappings have changed! You should recompute post embeddings.\n",
      "Matrix shape: (121634, 17544)\n",
      "Warning: Mappings have changed! You should recompute post embeddings.\n",
      "Matrix shape: (122739, 18969)\n",
      "Warning: Mappings have changed! You should recompute post embeddings.\n",
      "Matrix shape: (123746, 20500)\n",
      "Warning: Mappings have changed! You should recompute post embeddings.\n",
      "Matrix shape: (124326, 21238)\n",
      "Warning: Mappings have changed! You should recompute post embeddings.\n",
      "Matrix shape: (124867, 21976)\n"
     ]
    },
    {
     "data": {
      "application/vnd.jupyter.widget-view+json": {
       "model_id": "0c2d896e1dbf44f9ba452720dd0012f1",
       "version_major": 2,
       "version_minor": 0
      },
      "text/plain": [
       "FloatProgress(value=0.0, layout=Layout(width='auto'), style=ProgressStyle(bar_color='black'))"
      ]
     },
     "metadata": {},
     "output_type": "display_data"
    },
    {
     "name": "stdout",
     "output_type": "stream",
     "text": [
      "Warning: Mappings have changed! You should recompute post embeddings.\n",
      "Matrix shape: (125391, 22937)\n",
      "Warning: Mappings have changed! You should recompute post embeddings.\n",
      "Matrix shape: (125741, 23591)\n"
     ]
    },
    {
     "data": {
      "application/vnd.jupyter.widget-view+json": {
       "model_id": "434f41930897497194ca396b9ebce26d",
       "version_major": 2,
       "version_minor": 0
      },
      "text/plain": [
       "FloatProgress(value=0.0, layout=Layout(width='auto'), style=ProgressStyle(bar_color='black'))"
      ]
     },
     "metadata": {},
     "output_type": "display_data"
    },
    {
     "name": "stdout",
     "output_type": "stream",
     "text": [
      "Warning: Mappings have changed! You should recompute post embeddings.\n",
      "Matrix shape: (126182, 24454)\n",
      "Warning: Mappings have changed! You should recompute post embeddings.\n",
      "Matrix shape: (126549, 25322)\n"
     ]
    },
    {
     "data": {
      "application/vnd.jupyter.widget-view+json": {
       "model_id": "7754d202ef484b799644a1cb614ef3ff",
       "version_major": 2,
       "version_minor": 0
      },
      "text/plain": [
       "FloatProgress(value=0.0, layout=Layout(width='auto'), style=ProgressStyle(bar_color='black'))"
      ]
     },
     "metadata": {},
     "output_type": "display_data"
    },
    {
     "name": "stdout",
     "output_type": "stream",
     "text": [
      "Warning: Mappings have changed! You should recompute post embeddings.\n",
      "Matrix shape: (126922, 26060)\n",
      "Warning: Mappings have changed! You should recompute post embeddings.\n",
      "Matrix shape: (127230, 26580)\n",
      "Warning: Mappings have changed! You should recompute post embeddings.\n",
      "Matrix shape: (127472, 27026)\n",
      "Warning: Mappings have changed! You should recompute post embeddings.\n",
      "Matrix shape: (127765, 27644)\n",
      "Warning: Mappings have changed! You should recompute post embeddings.\n",
      "Matrix shape: (127995, 28109)\n",
      "Warning: Mappings have changed! You should recompute post embeddings.\n",
      "Matrix shape: (128183, 28473)\n",
      "Warning: Mappings have changed! You should recompute post embeddings.\n",
      "Matrix shape: (128464, 28994)\n",
      "Warning: Mappings have changed! You should recompute post embeddings.\n",
      "Matrix shape: (128695, 29531)\n",
      "Warning: Mappings have changed! You should recompute post embeddings.\n",
      "Matrix shape: (128919, 29877)\n",
      "Warning: Mappings have changed! You should recompute post embeddings.\n",
      "Matrix shape: (129082, 30196)\n",
      "Warning: Mappings have changed! You should recompute post embeddings.\n",
      "Matrix shape: (129237, 30579)\n",
      "Warning: Mappings have changed! You should recompute post embeddings.\n",
      "Matrix shape: (129604, 30962)\n",
      "Warning: Mappings have changed! You should recompute post embeddings.\n",
      "Matrix shape: (129773, 31469)\n",
      "Warning: Mappings have changed! You should recompute post embeddings.\n",
      "Matrix shape: (130077, 31756)\n",
      "Warning: Mappings have changed! You should recompute post embeddings.\n",
      "Matrix shape: (130211, 31990)\n",
      "Warning: Mappings have changed! You should recompute post embeddings.\n",
      "Matrix shape: (130400, 32228)\n",
      "Warning: Mappings have changed! You should recompute post embeddings.\n",
      "Matrix shape: (130523, 32436)\n",
      "Warning: Mappings have changed! You should recompute post embeddings.\n",
      "Matrix shape: (130646, 32695)\n",
      "Warning: Mappings have changed! You should recompute post embeddings.\n",
      "Matrix shape: (130745, 32928)\n",
      "Warning: Mappings have changed! You should recompute post embeddings.\n",
      "Matrix shape: (130850, 33145)\n",
      "Warning: Mappings have changed! You should recompute post embeddings.\n",
      "Matrix shape: (130938, 33355)\n",
      "Warning: Mappings have changed! You should recompute post embeddings.\n",
      "Matrix shape: (131044, 33565)\n",
      "Warning: Mappings have changed! You should recompute post embeddings.\n",
      "Matrix shape: (131214, 33798)\n"
     ]
    },
    {
     "data": {
      "application/vnd.jupyter.widget-view+json": {
       "model_id": "14372634715e4401a9e5db14cd21116a",
       "version_major": 2,
       "version_minor": 0
      },
      "text/plain": [
       "FloatProgress(value=0.0, layout=Layout(width='auto'), style=ProgressStyle(bar_color='black'))"
      ]
     },
     "metadata": {},
     "output_type": "display_data"
    },
    {
     "name": "stdout",
     "output_type": "stream",
     "text": [
      "Warning: Mappings have changed! You should recompute post embeddings.\n",
      "Matrix shape: (131302, 34027)\n"
     ]
    },
    {
     "data": {
      "application/vnd.jupyter.widget-view+json": {
       "model_id": "e9e995e099c04606989992a83492cab7",
       "version_major": 2,
       "version_minor": 0
      },
      "text/plain": [
       "FloatProgress(value=0.0, layout=Layout(width='auto'), style=ProgressStyle(bar_color='black'))"
      ]
     },
     "metadata": {},
     "output_type": "display_data"
    },
    {
     "name": "stdout",
     "output_type": "stream",
     "text": [
      "Warning: Mappings have changed! You should recompute post embeddings.\n",
      "Matrix shape: (131398, 34225)\n",
      "Warning: Mappings have changed! You should recompute post embeddings.\n",
      "Matrix shape: (131478, 34416)\n",
      "Warning: Mappings have changed! You should recompute post embeddings.\n",
      "Matrix shape: (131539, 34577)\n"
     ]
    },
    {
     "data": {
      "application/vnd.jupyter.widget-view+json": {
       "model_id": "b0e067a6a5f040769a3d11ce60d4605b",
       "version_major": 2,
       "version_minor": 0
      },
      "text/plain": [
       "FloatProgress(value=0.0, layout=Layout(width='auto'), style=ProgressStyle(bar_color='black'))"
      ]
     },
     "metadata": {},
     "output_type": "display_data"
    },
    {
     "name": "stdout",
     "output_type": "stream",
     "text": [
      "Warning: Mappings have changed! You should recompute post embeddings.\n",
      "Matrix shape: (131688, 34850)\n"
     ]
    },
    {
     "data": {
      "application/vnd.jupyter.widget-view+json": {
       "model_id": "725273aef6024353ada8f166ad3e954f",
       "version_major": 2,
       "version_minor": 0
      },
      "text/plain": [
       "FloatProgress(value=0.0, layout=Layout(width='auto'), style=ProgressStyle(bar_color='black'))"
      ]
     },
     "metadata": {},
     "output_type": "display_data"
    },
    {
     "name": "stdout",
     "output_type": "stream",
     "text": [
      "Warning: Mappings have changed! You should recompute post embeddings.\n",
      "Matrix shape: (131749, 35041)\n"
     ]
    },
    {
     "data": {
      "application/vnd.jupyter.widget-view+json": {
       "model_id": "fe094fef460b4edd93fc00df7deabf36",
       "version_major": 2,
       "version_minor": 0
      },
      "text/plain": [
       "FloatProgress(value=0.0, layout=Layout(width='auto'), style=ProgressStyle(bar_color='black'))"
      ]
     },
     "metadata": {},
     "output_type": "display_data"
    },
    {
     "name": "stdout",
     "output_type": "stream",
     "text": [
      "Warning: Mappings have changed! You should recompute post embeddings.\n",
      "Matrix shape: (131877, 35267)\n"
     ]
    },
    {
     "data": {
      "application/vnd.jupyter.widget-view+json": {
       "model_id": "520e4fc1a0924dea98ea9c41cb4b1ab0",
       "version_major": 2,
       "version_minor": 0
      },
      "text/plain": [
       "FloatProgress(value=0.0, layout=Layout(width='auto'), style=ProgressStyle(bar_color='black'))"
      ]
     },
     "metadata": {},
     "output_type": "display_data"
    },
    {
     "name": "stdout",
     "output_type": "stream",
     "text": [
      "Warning: Mappings have changed! You should recompute post embeddings.\n",
      "Matrix shape: (131998, 35522)\n"
     ]
    },
    {
     "data": {
      "application/vnd.jupyter.widget-view+json": {
       "model_id": "147dbcaaea7144379ec046da9415edfb",
       "version_major": 2,
       "version_minor": 0
      },
      "text/plain": [
       "FloatProgress(value=0.0, layout=Layout(width='auto'), style=ProgressStyle(bar_color='black'))"
      ]
     },
     "metadata": {},
     "output_type": "display_data"
    },
    {
     "name": "stdout",
     "output_type": "stream",
     "text": [
      "Warning: Mappings have changed! You should recompute post embeddings.\n",
      "Matrix shape: (132088, 35762)\n",
      "Warning: Mappings have changed! You should recompute post embeddings.\n",
      "Matrix shape: (132211, 35979)\n",
      "Warning: Mappings have changed! You should recompute post embeddings.\n",
      "Matrix shape: (132302, 36208)\n"
     ]
    },
    {
     "data": {
      "application/vnd.jupyter.widget-view+json": {
       "model_id": "3dc5d334028741c98fe147b77255d2e9",
       "version_major": 2,
       "version_minor": 0
      },
      "text/plain": [
       "FloatProgress(value=0.0, layout=Layout(width='auto'), style=ProgressStyle(bar_color='black'))"
      ]
     },
     "metadata": {},
     "output_type": "display_data"
    },
    {
     "name": "stdout",
     "output_type": "stream",
     "text": [
      "Warning: Mappings have changed! You should recompute post embeddings.\n",
      "Matrix shape: (132403, 36450)\n",
      "Warning: Mappings have changed! You should recompute post embeddings.\n",
      "Matrix shape: (132494, 36744)\n"
     ]
    },
    {
     "data": {
      "application/vnd.jupyter.widget-view+json": {
       "model_id": "387f9663668648609a92c711458b0b97",
       "version_major": 2,
       "version_minor": 0
      },
      "text/plain": [
       "FloatProgress(value=0.0, layout=Layout(width='auto'), style=ProgressStyle(bar_color='black'))"
      ]
     },
     "metadata": {},
     "output_type": "display_data"
    },
    {
     "name": "stdout",
     "output_type": "stream",
     "text": [
      "Warning: Mappings have changed! You should recompute post embeddings.\n",
      "Matrix shape: (132613, 37166)\n",
      "Warning: Mappings have changed! You should recompute post embeddings.\n",
      "Matrix shape: (132766, 37546)\n",
      "Warning: Mappings have changed! You should recompute post embeddings.\n",
      "Matrix shape: (132877, 37871)\n",
      "Warning: Mappings have changed! You should recompute post embeddings.\n",
      "Matrix shape: (132963, 38122)\n",
      "Warning: Mappings have changed! You should recompute post embeddings.\n",
      "Matrix shape: (133024, 38346)\n"
     ]
    },
    {
     "data": {
      "application/vnd.jupyter.widget-view+json": {
       "model_id": "3c11c09827104af5b844a71266818cd6",
       "version_major": 2,
       "version_minor": 0
      },
      "text/plain": [
       "FloatProgress(value=0.0, layout=Layout(width='auto'), style=ProgressStyle(bar_color='black'))"
      ]
     },
     "metadata": {},
     "output_type": "display_data"
    },
    {
     "name": "stdout",
     "output_type": "stream",
     "text": [
      "Warning: Mappings have changed! You should recompute post embeddings.\n",
      "Matrix shape: (133086, 38585)\n",
      "Warning: Mappings have changed! You should recompute post embeddings.\n",
      "Matrix shape: (133139, 38809)\n",
      "Warning: Mappings have changed! You should recompute post embeddings.\n",
      "Matrix shape: (133269, 39283)\n"
     ]
    },
    {
     "data": {
      "application/vnd.jupyter.widget-view+json": {
       "model_id": "c2639a7c75e948eba9fcbabfa849da4d",
       "version_major": 2,
       "version_minor": 0
      },
      "text/plain": [
       "FloatProgress(value=0.0, layout=Layout(width='auto'), style=ProgressStyle(bar_color='black'))"
      ]
     },
     "metadata": {},
     "output_type": "display_data"
    },
    {
     "name": "stdout",
     "output_type": "stream",
     "text": [
      "Warning: Mappings have changed! You should recompute post embeddings.\n",
      "Matrix shape: (133622, 41073)\n"
     ]
    },
    {
     "data": {
      "application/vnd.jupyter.widget-view+json": {
       "model_id": "0a7b1b0c2b6d40f5bd6150c6a689c0f2",
       "version_major": 2,
       "version_minor": 0
      },
      "text/plain": [
       "FloatProgress(value=0.0, layout=Layout(width='auto'), style=ProgressStyle(bar_color='black'))"
      ]
     },
     "metadata": {},
     "output_type": "display_data"
    },
    {
     "name": "stdout",
     "output_type": "stream",
     "text": [
      "Warning: Mappings have changed! You should recompute post embeddings.\n",
      "Matrix shape: (133818, 42023)\n"
     ]
    },
    {
     "data": {
      "application/vnd.jupyter.widget-view+json": {
       "model_id": "b35c8ff026a243ec850b9204e334d9e8",
       "version_major": 2,
       "version_minor": 0
      },
      "text/plain": [
       "FloatProgress(value=0.0, layout=Layout(width='auto'), style=ProgressStyle(bar_color='black'))"
      ]
     },
     "metadata": {},
     "output_type": "display_data"
    },
    {
     "name": "stdout",
     "output_type": "stream",
     "text": [
      "Warning: Mappings have changed! You should recompute post embeddings.\n",
      "Matrix shape: (133903, 42575)\n"
     ]
    },
    {
     "data": {
      "application/vnd.jupyter.widget-view+json": {
       "model_id": "f8f6131f64884432b6769ad842e140ce",
       "version_major": 2,
       "version_minor": 0
      },
      "text/plain": [
       "FloatProgress(value=0.0, layout=Layout(width='auto'), style=ProgressStyle(bar_color='black'))"
      ]
     },
     "metadata": {},
     "output_type": "display_data"
    },
    {
     "name": "stdout",
     "output_type": "stream",
     "text": [
      "Warning: Mappings have changed! You should recompute post embeddings.\n",
      "Matrix shape: (133980, 43028)\n"
     ]
    },
    {
     "data": {
      "application/vnd.jupyter.widget-view+json": {
       "model_id": "1d25f0fd2a074dc1bdbb7d1e1e9b7df5",
       "version_major": 2,
       "version_minor": 0
      },
      "text/plain": [
       "FloatProgress(value=0.0, layout=Layout(width='auto'), style=ProgressStyle(bar_color='black'))"
      ]
     },
     "metadata": {},
     "output_type": "display_data"
    },
    {
     "name": "stdout",
     "output_type": "stream",
     "text": [
      "Warning: Mappings have changed! You should recompute post embeddings.\n",
      "Matrix shape: (134108, 43572)\n"
     ]
    },
    {
     "data": {
      "application/vnd.jupyter.widget-view+json": {
       "model_id": "4359a73e272a47df91d9cec4de7d45cb",
       "version_major": 2,
       "version_minor": 0
      },
      "text/plain": [
       "FloatProgress(value=0.0, layout=Layout(width='auto'), style=ProgressStyle(bar_color='black'))"
      ]
     },
     "metadata": {},
     "output_type": "display_data"
    },
    {
     "name": "stdout",
     "output_type": "stream",
     "text": [
      "Warning: Mappings have changed! You should recompute post embeddings.\n",
      "Matrix shape: (134298, 44670)\n"
     ]
    },
    {
     "data": {
      "application/vnd.jupyter.widget-view+json": {
       "model_id": "5c37460d834f4bb98bb2cbf6bdb72ac6",
       "version_major": 2,
       "version_minor": 0
      },
      "text/plain": [
       "FloatProgress(value=0.0, layout=Layout(width='auto'), style=ProgressStyle(bar_color='black'))"
      ]
     },
     "metadata": {},
     "output_type": "display_data"
    },
    {
     "name": "stdout",
     "output_type": "stream",
     "text": [
      "Warning: Mappings have changed! You should recompute post embeddings.\n",
      "Matrix shape: (134414, 45353)\n"
     ]
    },
    {
     "data": {
      "application/vnd.jupyter.widget-view+json": {
       "model_id": "26b51a3e52c744d6acd27cafc19803b8",
       "version_major": 2,
       "version_minor": 0
      },
      "text/plain": [
       "FloatProgress(value=0.0, layout=Layout(width='auto'), style=ProgressStyle(bar_color='black'))"
      ]
     },
     "metadata": {},
     "output_type": "display_data"
    },
    {
     "name": "stdout",
     "output_type": "stream",
     "text": [
      "Warning: Mappings have changed! You should recompute post embeddings.\n",
      "Matrix shape: (134505, 45882)\n",
      "Finished processing all dates.\n"
     ]
    }
   ],
   "source": [
    "user_dynamic_features = {}\n",
    "# Define start and end dates\n",
    "start_date = datetime.strptime(\"2023-03-15\", \"%Y-%m-%d\")\n",
    "end_date = datetime.strptime(\"2023-06-30\", \"%Y-%m-%d\")\n",
    "embedding_dim=64\n",
    "\n",
    "# Iterate through each day in the range\n",
    "current_date = start_date\n",
    "while current_date <= end_date:\n",
    "    date_str = current_date.strftime(\"%Y-%m-%d\")\n",
    "    date_int = int(current_date.timestamp())\n",
    "\n",
    "    # Get embeddings and consumer ID mapping\n",
    "    consumer_embeddings, consumer_to_idx = create_user_embedding(date_str)\n",
    "\n",
    "    # Query likes data for the given day\n",
    "    likes_df = con.execute(f\"\"\"\n",
    "        SELECT DISTINCT repo AS userId\n",
    "        FROM records\n",
    "        WHERE createdAt >= '{date_str}' \n",
    "            AND createdAt < '{(current_date + timedelta(days=1)).strftime(\"%Y-%m-%d\")}'\n",
    "            AND collection = 'app.bsky.feed.like'\n",
    "    \"\"\").fetchdf()\n",
    "\n",
    "    # Initialize dictionary for the current date\n",
    "    user_dynamic_features[date_int] = {}\n",
    "\n",
    "    # Process users\n",
    "    for _, row in likes_df.iterrows():\n",
    "        try:\n",
    "            user_dynamic_features[date_int][row['userId']] = consumer_embeddings[consumer_to_idx[row['userId']]]\n",
    "        except KeyError:  # If user is not found, assign zero vector\n",
    "            user_dynamic_features[date_int][row['userId']] = np.zeros(embedding_dim)\n",
    "\n",
    "    # Move to the next day\n",
    "    current_date += timedelta(days=1)\n",
    "\n",
    "print(\"Finished processing all dates.\")\n",
    "\n",
    "save_path = \"/home/sgan/private/DyGLib/DG_data/bluesky/user_dynamic_features.pkl\"\n",
    "\n",
    "with open(save_path, \"wb\") as f:\n",
    "    pickle.dump(user_dynamic_features, f)"
   ]
  },
  {
   "cell_type": "code",
   "execution_count": 3,
   "id": "c8ec4e82-ade7-42e9-a71d-2e863df173bd",
   "metadata": {},
   "outputs": [],
   "source": [
    "user_mapping_path = \"/home/sgan/private/DyGLib/DG_data/bluesky/user_mapping.pkl\"\n",
    "\n",
    "with open(user_mapping_path, \"rb\") as file:\n",
    "    user_mapping = pickle.load(file)"
   ]
  },
  {
   "cell_type": "code",
   "execution_count": 4,
   "id": "95565591-bfe9-4998-b0b4-d9c746aa4b8e",
   "metadata": {},
   "outputs": [
    {
     "name": "stdout",
     "output_type": "stream",
     "text": [
      "\n",
      "All users in user_dynamic_features exist in user_mapping.\n"
     ]
    }
   ],
   "source": [
    "missing_users_per_date = {}\n",
    "\n",
    "# Iterate over each date in user_dynamic_features\n",
    "for date, users in user_dynamic_features.items():\n",
    "    # Get user IDs from the current date\n",
    "    user_ids = users.keys()\n",
    "\n",
    "    # Find users not in user_mapping\n",
    "    missing_users = [user for user in user_ids if user not in user_mapping]\n",
    "\n",
    "    # Store missing users if any exist for this date\n",
    "    if missing_users:\n",
    "        missing_users_per_date[date] = missing_users\n",
    "        print(f\"{len(missing_users)} users missing in user_mapping for {date}\")\n",
    "\n",
    "# Summary\n",
    "if missing_users_per_date:\n",
    "    print(\"\\nSome users are missing in user_mapping across multiple dates.\")\n",
    "else:\n",
    "    print(\"\\nAll users in user_dynamic_features exist in user_mapping.\")\n"
   ]
  },
  {
   "cell_type": "code",
   "execution_count": 5,
   "id": "ce5bd59b-7bef-4bb0-8a9b-9d4e565e96c7",
   "metadata": {},
   "outputs": [
    {
     "name": "stdout",
     "output_type": "stream",
     "text": [
      "User IDs in user_dynamic_features have been replaced with user_mapping indices.\n"
     ]
    }
   ],
   "source": [
    "# Replace user IDs with their mapped indices\n",
    "user_dynamic_features_mapped = {\n",
    "    date: {user_mapping[user]: emb for user, emb in users.items()} \n",
    "    for date, users in user_dynamic_features.items()\n",
    "}\n",
    "\n",
    "print(\"User IDs in user_dynamic_features have been replaced with user_mapping indices.\")"
   ]
  },
  {
   "cell_type": "code",
   "execution_count": 6,
   "id": "20c3d0f7-9199-4cc5-91d4-ff6e08011027",
   "metadata": {},
   "outputs": [],
   "source": [
    "save_path = \"/home/sgan/private/DyGLib/DG_data/bluesky/user_dynamic_features.pkl\"\n",
    "\n",
    "with open(save_path, \"wb\") as f:\n",
    "    pickle.dump(user_dynamic_features_mapped, f)"
   ]
  },
  {
   "cell_type": "code",
   "execution_count": null,
   "id": "2ed4c6f1-6fca-499d-a927-04c572130366",
   "metadata": {},
   "outputs": [],
   "source": []
  }
 ],
 "metadata": {
  "kernelspec": {
   "display_name": "bluesky",
   "language": "python",
   "name": "bluesky"
  },
  "language_info": {
   "codemirror_mode": {
    "name": "ipython",
    "version": 3
   },
   "file_extension": ".py",
   "mimetype": "text/x-python",
   "name": "python",
   "nbconvert_exporter": "python",
   "pygments_lexer": "ipython3",
   "version": "3.11.9"
  }
 },
 "nbformat": 4,
 "nbformat_minor": 5
}

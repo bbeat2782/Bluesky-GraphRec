{
 "cells": [
  {
   "cell_type": "code",
   "execution_count": 4,
   "metadata": {},
   "outputs": [
    {
     "name": "stdout",
     "output_type": "stream",
     "text": [
      "Loading data...\n"
     ]
    },
    {
     "data": {
      "application/vnd.jupyter.widget-view+json": {
       "model_id": "9b2f7feb9ae343368658e4c78f3b0e55",
       "version_major": 2,
       "version_minor": 0
      },
      "text/plain": [
       "FloatProgress(value=0.0, layout=Layout(width='auto'), style=ProgressStyle(bar_color='black'))"
      ]
     },
     "metadata": {},
     "output_type": "display_data"
    },
    {
     "data": {
      "application/vnd.jupyter.widget-view+json": {
       "model_id": "cd17abe919c843b09dc277c09379f666",
       "version_major": 2,
       "version_minor": 0
      },
      "text/plain": [
       "FloatProgress(value=0.0, layout=Layout(width='auto'), style=ProgressStyle(bar_color='black'))"
      ]
     },
     "metadata": {},
     "output_type": "display_data"
    },
    {
     "name": "stdout",
     "output_type": "stream",
     "text": [
      "Loaded 3618997 interactions and 3618975 unique posts before May 2023\n",
      "Interaction matrix shape: (32836, 1023480)\n",
      "Number of users: 32836\n",
      "Number of posts: 1023480\n",
      "Number of interactions: 3618040\n",
      "Creating adjacency matrix...\n",
      "Adjacency matrix shape: torch.Size([1056316, 1056316])\n",
      "Initializing model...\n",
      "Training model...\n",
      "Epoch 0: Loss = 0.6931\n",
      "Getting recommendations...\n",
      "Top 10 recommendations for user did:plc:42kmtf65uqs765coei7bimwx:\n",
      "1. ('at://did:plc:vjug55kidv6sye7ykr5faxxn/app.bsky.feed.post/3ju552mutgu2b', 'https://bsky.app/profile/did:plc:vjug55kidv6sye7ykr5faxxn/post/3ju552mutgu2b')\n",
      "2. ('at://did:plc:6fktaamhhxdqb2ypum33kbkj/app.bsky.feed.post/3jp2i5dstlc2r', 'https://bsky.app/profile/did:plc:6fktaamhhxdqb2ypum33kbkj/post/3jp2i5dstlc2r')\n",
      "3. ('at://did:plc:36tmqxxepo5jlx54peygtx6i/app.bsky.feed.post/3juiyd5jckj2s', 'https://bsky.app/profile/did:plc:36tmqxxepo5jlx54peygtx6i/post/3juiyd5jckj2s')\n",
      "4. ('at://did:plc:6fktaamhhxdqb2ypum33kbkj/app.bsky.feed.post/3juhx7ctgsk2k', 'https://bsky.app/profile/did:plc:6fktaamhhxdqb2ypum33kbkj/post/3juhx7ctgsk2k')\n",
      "5. ('at://did:plc:yk4dd2qkboz2yv6tpubpc6co/app.bsky.feed.post/3juf3offbc22d', 'https://bsky.app/profile/did:plc:yk4dd2qkboz2yv6tpubpc6co/post/3juf3offbc22d')\n",
      "6. ('at://did:plc:oky5czdrnfjpqslsw2a5iclo/app.bsky.feed.post/3jud3y3k2rs2r', 'https://bsky.app/profile/did:plc:oky5czdrnfjpqslsw2a5iclo/post/3jud3y3k2rs2r')\n",
      "7. ('at://did:plc:oky5czdrnfjpqslsw2a5iclo/app.bsky.feed.post/3juhyorjmfs2o', 'https://bsky.app/profile/did:plc:oky5czdrnfjpqslsw2a5iclo/post/3juhyorjmfs2o')\n",
      "8. ('at://did:plc:oky5czdrnfjpqslsw2a5iclo/app.bsky.feed.post/3ju6gsfeyda2j', 'https://bsky.app/profile/did:plc:oky5czdrnfjpqslsw2a5iclo/post/3ju6gsfeyda2j')\n",
      "9. ('at://did:plc:ragtjsm2j2vknwkz3zp4oxrd/app.bsky.feed.post/3jtqhia5mxe2z', 'https://bsky.app/profile/did:plc:ragtjsm2j2vknwkz3zp4oxrd/post/3jtqhia5mxe2z')\n",
      "10. ('at://did:plc:6fktaamhhxdqb2ypum33kbkj/app.bsky.feed.post/3jui2hf6txp2k', 'https://bsky.app/profile/did:plc:6fktaamhhxdqb2ypum33kbkj/post/3jui2hf6txp2k')\n"
     ]
    }
   ],
   "source": [
    "import torch\n",
    "from data_processing import load_interactions, create_interaction_matrix, create_adj_matrix\n",
    "from model import LightGCN\n",
    "from training import train_lightgcn\n",
    "from recommend import get_recommendations\n",
    "\n",
    "def main():\n",
    "    # Device configuration\n",
    "    device = torch.device('cuda' if torch.cuda.is_available() else 'cpu')\n",
    "    \n",
    "    # Load and process data\n",
    "    print(\"Loading data...\")\n",
    "    likes_df, posts_df = load_interactions()\n",
    "    interaction_matrix, user_mapping, post_mapping = create_interaction_matrix(likes_df)\n",
    "    \n",
    "    # Print matrix dimensions\n",
    "    print(f\"Interaction matrix shape: {interaction_matrix.shape}\")\n",
    "    print(f\"Number of users: {len(user_mapping)}\")\n",
    "    print(f\"Number of posts: {len(post_mapping)}\")\n",
    "    print(f\"Number of interactions: {interaction_matrix.nnz}\")\n",
    "    \n",
    "    # Create adjacency matrix\n",
    "    print(\"Creating adjacency matrix...\")\n",
    "    adj_matrix = create_adj_matrix(interaction_matrix)\n",
    "    print(f\"Adjacency matrix shape: {adj_matrix.size()}\")\n",
    "    \n",
    "    # Initialize model\n",
    "    print(\"Initializing model...\")\n",
    "    model = LightGCN(\n",
    "        num_users=len(user_mapping),\n",
    "        num_items=len(post_mapping),\n",
    "        embedding_dim=24,  # Reduced from 64\n",
    "        num_layers=1      # Reduced from 3\n",
    "    )\n",
    "    \n",
    "    # Training setup with memory-efficient parameters\n",
    "    optimizer = torch.optim.Adam(model.parameters(), lr=0.001, weight_decay=1e-4)\n",
    "    \n",
    "    # Train model with smaller batch size\n",
    "    print(\"Training model...\")\n",
    "    train_lightgcn(\n",
    "        model=model,\n",
    "        optimizer=optimizer,\n",
    "        train_data=interaction_matrix,\n",
    "        adj_matrix=adj_matrix,\n",
    "        epochs=1,\n",
    "        batch_size=128,  # Smaller batch size\n",
    "        device=device\n",
    "    )\n",
    "    \n",
    "    # Example: Get recommendations for a user\n",
    "    print(\"Getting recommendations...\")\n",
    "    user_id = list(user_mapping.keys())[0]  # Get first user as example\n",
    "    recommendations = get_recommendations(\n",
    "        model=model,\n",
    "        user_id=user_id,\n",
    "        user_mapping=user_mapping,\n",
    "        post_mapping=post_mapping,\n",
    "        adj_matrix=adj_matrix,\n",
    "        top_k=10,\n",
    "        device=device\n",
    "    )\n",
    "    \n",
    "    print(f\"Top 10 recommendations for user {user_id}:\")\n",
    "    for i, rec in enumerate(recommendations, 1):\n",
    "        print(f\"{i}. {rec}\")\n",
    "\n",
    "if __name__ == \"__main__\":\n",
    "    main()"
   ]
  }
 ],
 "metadata": {
  "kernelspec": {
   "display_name": "Python 3",
   "language": "python",
   "name": "python3"
  },
  "language_info": {
   "codemirror_mode": {
    "name": "ipython",
    "version": 3
   },
   "file_extension": ".py",
   "mimetype": "text/x-python",
   "name": "python",
   "nbconvert_exporter": "python",
   "pygments_lexer": "ipython3",
   "version": "3.12.4"
  }
 },
 "nbformat": 4,
 "nbformat_minor": 2
}

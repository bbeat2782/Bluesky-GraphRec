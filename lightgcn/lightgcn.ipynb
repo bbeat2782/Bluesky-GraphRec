{
 "cells": [
  {
   "cell_type": "code",
   "execution_count": 1,
   "metadata": {},
   "outputs": [
    {
     "name": "stdout",
     "output_type": "stream",
     "text": [
      "Loading data...\n"
     ]
    },
    {
     "data": {
      "application/vnd.jupyter.widget-view+json": {
       "model_id": "b88d9d526d1b47529073d559f0a9c15a",
       "version_major": 2,
       "version_minor": 0
      },
      "text/plain": [
       "FloatProgress(value=0.0, layout=Layout(width='auto'), style=ProgressStyle(bar_color='black'))"
      ]
     },
     "metadata": {},
     "output_type": "display_data"
    },
    {
     "name": "stdout",
     "output_type": "stream",
     "text": [
      "Loaded 3618997 interactions and 15 unique posts before May 2023\n",
      "Interaction matrix shape: (32836, 3618981)\n",
      "Number of users: 32836\n",
      "Number of posts: 3618981\n",
      "Number of interactions: 3618997\n",
      "Creating adjacency matrix...\n",
      "Adjacency matrix shape: torch.Size([3651817, 3651817])\n",
      "Initializing model...\n"
     ]
    },
    {
     "name": "stderr",
     "output_type": "stream",
     "text": [
      "c:\\Users\\Aleck\\DSC180\\Bluesky-GraphRec\\lightgcn\\data_processing.py:82: UserWarning: torch.sparse.SparseTensor(indices, values, shape, *, device=) is deprecated.  Please use torch.sparse_coo_tensor(indices, values, shape, dtype=, device=). (Triggered internally at C:\\cb\\pytorch_1000000000000\\work\\torch\\csrc\\utils\\tensor_new.cpp:643.)\n",
      "  adj = torch.sparse.FloatTensor(\n"
     ]
    },
    {
     "name": "stdout",
     "output_type": "stream",
     "text": [
      "Training model...\n",
      "Epoch 0: Loss = 0.6862\n",
      "Epoch 10: Loss = 1.0408\n",
      "Epoch 20: Loss = 1.2053\n",
      "Epoch 30: Loss = 0.9113\n",
      "Epoch 40: Loss = 0.9513\n",
      "Epoch 50: Loss = 0.6722\n",
      "Epoch 60: Loss = 1.1442\n",
      "Epoch 70: Loss = 0.6080\n",
      "Epoch 80: Loss = 0.8622\n",
      "Epoch 90: Loss = 0.8989\n",
      "Getting recommendations...\n",
      "Top 10 recommendations for user did:plc:42kmtf65uqs765coei7bimwx:\n",
      "1. 3jthfslydbi2w\n",
      "2. 3jpiqcsurkc2g\n",
      "3. 3jumn5l5bw42m\n",
      "4. 3jsuomeu5oc2m\n",
      "5. 3jmsqkdts6i2e\n",
      "6. 3ju2j42srud2a\n",
      "7. 3jnxnpuaiu22c\n",
      "8. 3jqhl2wsh722r\n",
      "9. 3jui7a36kts2w\n",
      "10. 3jnb53kf3yu2f\n"
     ]
    }
   ],
   "source": [
    "import torch\n",
    "from data_processing import load_interactions, create_interaction_matrix, create_adj_matrix\n",
    "from model import LightGCN\n",
    "from training import train_lightgcn\n",
    "from recommend import get_recommendations\n",
    "\n",
    "def main():\n",
    "    # Device configuration\n",
    "    device = torch.device('cuda' if torch.cuda.is_available() else 'cpu')\n",
    "    \n",
    "    # Load and process data\n",
    "    print(\"Loading data...\")\n",
    "    likes_df, posts_df = load_interactions()\n",
    "    interaction_matrix, user_mapping, post_mapping = create_interaction_matrix(likes_df)\n",
    "    \n",
    "    # Print matrix dimensions\n",
    "    print(f\"Interaction matrix shape: {interaction_matrix.shape}\")\n",
    "    print(f\"Number of users: {len(user_mapping)}\")\n",
    "    print(f\"Number of posts: {len(post_mapping)}\")\n",
    "    print(f\"Number of interactions: {interaction_matrix.nnz}\")\n",
    "    \n",
    "    # Create adjacency matrix\n",
    "    print(\"Creating adjacency matrix...\")\n",
    "    adj_matrix = create_adj_matrix(interaction_matrix)\n",
    "    print(f\"Adjacency matrix shape: {adj_matrix.size()}\")\n",
    "    \n",
    "    # Initialize model\n",
    "    print(\"Initializing model...\")\n",
    "    model = LightGCN(\n",
    "        num_users=len(user_mapping),\n",
    "        num_items=len(post_mapping),\n",
    "        embedding_dim=32,  # Reduced from 64\n",
    "        num_layers=2      # Reduced from 3\n",
    "    )\n",
    "    \n",
    "    # Training setup with memory-efficient parameters\n",
    "    optimizer = torch.optim.Adam(model.parameters(), lr=0.001, weight_decay=1e-4)\n",
    "    \n",
    "    # Train model with smaller batch size\n",
    "    print(\"Training model...\")\n",
    "    train_lightgcn(\n",
    "        model=model,\n",
    "        optimizer=optimizer,\n",
    "        train_data=interaction_matrix,\n",
    "        adj_matrix=adj_matrix,\n",
    "        epochs=100,\n",
    "        batch_size=128,  # Smaller batch size\n",
    "        device=device\n",
    "    )\n",
    "    \n",
    "    # Example: Get recommendations for a user\n",
    "    print(\"Getting recommendations...\")\n",
    "    user_id = list(user_mapping.keys())[0]  # Get first user as example\n",
    "    recommendations = get_recommendations(\n",
    "        model=model,\n",
    "        user_id=user_id,\n",
    "        user_mapping=user_mapping,\n",
    "        post_mapping=post_mapping,\n",
    "        adj_matrix=adj_matrix,\n",
    "        top_k=10,\n",
    "        device=device\n",
    "    )\n",
    "    \n",
    "    print(f\"Top 10 recommendations for user {user_id}:\")\n",
    "    for i, rec in enumerate(recommendations, 1):\n",
    "        print(f\"{i}. {rec}\")\n",
    "\n",
    "if __name__ == \"__main__\":\n",
    "    main()"
   ]
  }
 ],
 "metadata": {
  "kernelspec": {
   "display_name": "Python 3",
   "language": "python",
   "name": "python3"
  },
  "language_info": {
   "codemirror_mode": {
    "name": "ipython",
    "version": 3
   },
   "file_extension": ".py",
   "mimetype": "text/x-python",
   "name": "python",
   "nbconvert_exporter": "python",
   "pygments_lexer": "ipython3",
   "version": "3.12.4"
  }
 },
 "nbformat": 4,
 "nbformat_minor": 2
}

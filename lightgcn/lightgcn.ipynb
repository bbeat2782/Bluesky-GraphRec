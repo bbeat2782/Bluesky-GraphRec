{
 "cells": [
  {
   "cell_type": "code",
   "execution_count": 1,
   "metadata": {},
   "outputs": [
    {
     "name": "stdout",
     "output_type": "stream",
     "text": [
      "Loading data...\n"
     ]
    },
    {
     "data": {
      "application/vnd.jupyter.widget-view+json": {
       "model_id": "642d4f26f95f4eeabc55074957a023d8",
       "version_major": 2,
       "version_minor": 0
      },
      "text/plain": [
       "FloatProgress(value=0.0, layout=Layout(width='auto'), style=ProgressStyle(bar_color='black'))"
      ]
     },
     "metadata": {},
     "output_type": "display_data"
    },
    {
     "data": {
      "application/vnd.jupyter.widget-view+json": {
       "model_id": "b0ec7b9c559842dba0b18240b4feff9d",
       "version_major": 2,
       "version_minor": 0
      },
      "text/plain": [
       "FloatProgress(value=0.0, layout=Layout(width='auto'), style=ProgressStyle(bar_color='black'))"
      ]
     },
     "metadata": {},
     "output_type": "display_data"
    },
    {
     "name": "stdout",
     "output_type": "stream",
     "text": [
      "Loaded 3618997 interactions and 3618975 unique posts before May 2023\n",
      "Interaction matrix shape: (32836, 1023480)\n",
      "Number of users: 32836\n",
      "Number of posts: 1023480\n",
      "Number of interactions: 3618040\n",
      "Creating adjacency matrix...\n",
      "Adjacency matrix shape: torch.Size([1056316, 1056316])\n",
      "Initializing model...\n"
     ]
    },
    {
     "name": "stderr",
     "output_type": "stream",
     "text": [
      "c:\\Users\\Aleck\\DSC180\\Bluesky-GraphRec\\lightgcn\\data_processing.py:79: UserWarning: torch.sparse.SparseTensor(indices, values, shape, *, device=) is deprecated.  Please use torch.sparse_coo_tensor(indices, values, shape, dtype=, device=). (Triggered internally at C:\\cb\\pytorch_1000000000000\\work\\torch\\csrc\\utils\\tensor_new.cpp:643.)\n",
      "  adj = torch.sparse.FloatTensor(\n"
     ]
    },
    {
     "name": "stdout",
     "output_type": "stream",
     "text": [
      "Training model...\n",
      "Epoch 0: Loss = 0.6900\n",
      "Epoch 10: Loss = 1.8675\n",
      "Epoch 20: Loss = 1.5296\n",
      "Epoch 30: Loss = 3.2129\n",
      "Epoch 40: Loss = 2.5868\n",
      "Epoch 50: Loss = 2.0884\n",
      "Getting recommendations...\n",
      "Top 10 recommendations for user did:plc:42kmtf65uqs765coei7bimwx:\n",
      "1. ('at://did:plc:oky5czdrnfjpqslsw2a5iclo/app.bsky.feed.post/3jukkbpk5ak2m', 'https://bsky.app/profile/did:plc:oky5czdrnfjpqslsw2a5iclo/post/3jukkbpk5ak2m')\n",
      "2. ('at://did:plc:dst5a7uf7wtatmp66p5ygzmw/app.bsky.feed.post/3juezhxkcrl2m', 'https://bsky.app/profile/did:plc:dst5a7uf7wtatmp66p5ygzmw/post/3juezhxkcrl2m')\n",
      "3. ('at://did:plc:p7gxyfr5vii5ntpwo7f6dhe2/app.bsky.feed.post/3juf52klwc72i', 'https://bsky.app/profile/did:plc:p7gxyfr5vii5ntpwo7f6dhe2/post/3juf52klwc72i')\n",
      "4. ('at://did:plc:p7gxyfr5vii5ntpwo7f6dhe2/app.bsky.feed.post/3jujgu247h42j', 'https://bsky.app/profile/did:plc:p7gxyfr5vii5ntpwo7f6dhe2/post/3jujgu247h42j')\n",
      "5. ('at://did:plc:p7gxyfr5vii5ntpwo7f6dhe2/app.bsky.feed.post/3juma3uvbuv22', 'https://bsky.app/profile/did:plc:p7gxyfr5vii5ntpwo7f6dhe2/post/3juma3uvbuv22')\n",
      "6. ('at://did:plc:z72i7hdynmk6r22z27h6tvur/app.bsky.feed.post/3juhzmynnd22j', 'https://bsky.app/profile/did:plc:z72i7hdynmk6r22z27h6tvur/post/3juhzmynnd22j')\n",
      "7. ('at://did:plc:p7gxyfr5vii5ntpwo7f6dhe2/app.bsky.feed.post/3jugzy3yvoc2m', 'https://bsky.app/profile/did:plc:p7gxyfr5vii5ntpwo7f6dhe2/post/3jugzy3yvoc2m')\n",
      "8. ('at://did:plc:oky5czdrnfjpqslsw2a5iclo/app.bsky.feed.post/3juhirhlz2l24', 'https://bsky.app/profile/did:plc:oky5czdrnfjpqslsw2a5iclo/post/3juhirhlz2l24')\n",
      "9. ('at://did:plc:p7gxyfr5vii5ntpwo7f6dhe2/app.bsky.feed.post/3juexmwyc3o2h', 'https://bsky.app/profile/did:plc:p7gxyfr5vii5ntpwo7f6dhe2/post/3juexmwyc3o2h')\n",
      "10. ('at://did:plc:oky5czdrnfjpqslsw2a5iclo/app.bsky.feed.post/3jufbtyb2i22e', 'https://bsky.app/profile/did:plc:oky5czdrnfjpqslsw2a5iclo/post/3jufbtyb2i22e')\n"
     ]
    }
   ],
   "source": [
    "import torch\n",
    "from data_processing import load_interactions, create_interaction_matrix, create_adj_matrix\n",
    "from model import LightGCN\n",
    "from training import train_lightgcn\n",
    "from recommend import get_recommendations\n",
    "\n",
    "def main():\n",
    "    # Device configuration\n",
    "    device = torch.device('cuda' if torch.cuda.is_available() else 'cpu')\n",
    "    \n",
    "    # Load and process data\n",
    "    print(\"Loading data...\")\n",
    "    likes_df, posts_df = load_interactions()\n",
    "    interaction_matrix, user_mapping, post_mapping = create_interaction_matrix(likes_df)\n",
    "    \n",
    "    # Print matrix dimensions\n",
    "    print(f\"Interaction matrix shape: {interaction_matrix.shape}\")\n",
    "    print(f\"Number of users: {len(user_mapping)}\")\n",
    "    print(f\"Number of posts: {len(post_mapping)}\")\n",
    "    print(f\"Number of interactions: {interaction_matrix.nnz}\")\n",
    "    \n",
    "    # Create adjacency matrix\n",
    "    print(\"Creating adjacency matrix...\")\n",
    "    adj_matrix = create_adj_matrix(interaction_matrix)\n",
    "    print(f\"Adjacency matrix shape: {adj_matrix.size()}\")\n",
    "    \n",
    "    # Initialize model\n",
    "    print(\"Initializing model...\")\n",
    "    model = LightGCN(\n",
    "        num_users=len(user_mapping),\n",
    "        num_items=len(post_mapping),\n",
    "        embedding_dim=24,  # Reduced from 64\n",
    "        num_layers=1      # Reduced from 3\n",
    "    )\n",
    "    \n",
    "    # Training setup with memory-efficient parameters\n",
    "    optimizer = torch.optim.Adam(model.parameters(), lr=0.001, weight_decay=1e-4)\n",
    "    \n",
    "    # Train model with smaller batch size\n",
    "    print(\"Training model...\")\n",
    "    train_lightgcn(\n",
    "        model=model,\n",
    "        optimizer=optimizer,\n",
    "        train_data=interaction_matrix,\n",
    "        adj_matrix=adj_matrix,\n",
    "        epochs=60,\n",
    "        batch_size=128,  # Smaller batch size\n",
    "        device=device\n",
    "    )\n",
    "    \n",
    "    # Example: Get recommendations for a user\n",
    "    print(\"Getting recommendations...\")\n",
    "    user_id = list(user_mapping.keys())[0]  # Get first user as example\n",
    "    recommendations = get_recommendations(\n",
    "        model=model,\n",
    "        user_id=user_id,\n",
    "        user_mapping=user_mapping,\n",
    "        post_mapping=post_mapping,\n",
    "        adj_matrix=adj_matrix,\n",
    "        top_k=10,\n",
    "        device=device\n",
    "    )\n",
    "    \n",
    "    print(f\"Top 10 recommendations for user {user_id}:\")\n",
    "    for i, rec in enumerate(recommendations, 1):\n",
    "        print(f\"{i}. {rec}\")\n",
    "\n",
    "if __name__ == \"__main__\":\n",
    "    main()"
   ]
  }
 ],
 "metadata": {
  "kernelspec": {
   "display_name": "Python 3",
   "language": "python",
   "name": "python3"
  },
  "language_info": {
   "codemirror_mode": {
    "name": "ipython",
    "version": 3
   },
   "file_extension": ".py",
   "mimetype": "text/x-python",
   "name": "python",
   "nbconvert_exporter": "python",
   "pygments_lexer": "ipython3",
   "version": "3.12.4"
  }
 },
 "nbformat": 4,
 "nbformat_minor": 2
}
